{
 "cells": [
  {
   "cell_type": "markdown",
   "id": "1dc197d8",
   "metadata": {},
   "source": [
    "# Predicting High Quality Wine\n",
    "\n",
    "\n",
    "## Goals:\n",
    "\n",
    "- Find drivers of quality in wine dataset. Why are some wines rated higher in quality than others?\n",
    "- Construct a ML model that accurately predicts the quality of wines."
   ]
  },
  {
   "cell_type": "code",
   "execution_count": 1,
   "id": "946a6bf7",
   "metadata": {},
   "outputs": [],
   "source": [
    "import pandas as pd\n",
    "import numpy as np\n",
    "\n",
    "import matplotlib.pyplot as plt\n",
    "import seaborn as sns\n",
    "import os\n",
    "\n",
    "from sklearn.model_selection import train_test_split\n",
    "import sklearn.preprocessing\n",
    "from sklearn.tree import DecisionTreeClassifier\n",
    "from sklearn.ensemble import RandomForestClassifier\n",
    "from sklearn.neighbors import KNeighborsClassifier\n",
    "from sklearn.linear_model import LogisticRegression\n",
    "\n",
    "import warnings\n",
    "warnings.filterwarnings(\"ignore\")\n",
    "\n",
    "from scipy import stats\n",
    "import re\n",
    "\n",
    "#import acquire as a\n",
    "import prepare as p\n",
    "import explore as e\n",
    "import modeling as m"
   ]
  },
  {
   "cell_type": "markdown",
   "id": "05ee9482",
   "metadata": {},
   "source": [
    "# Acquire\n",
    "\n",
    "- Data acquired from Kaggle, downloaded as a CSV.\n",
    "- Data contained 1143 rows and 14 columns before preparation.\n",
    "- Each row represents a single wine.\n",
    "- Each column represents a feature that describes the wines."
   ]
  },
  {
   "cell_type": "code",
   "execution_count": 2,
   "id": "cc8e5550",
   "metadata": {},
   "outputs": [],
   "source": [
    "# acquiring data\n",
    "df = pd.read_csv('WineQT.csv')"
   ]
  },
  {
   "cell_type": "markdown",
   "id": "8607aae4",
   "metadata": {},
   "source": [
    "# Prepare\n",
    "\n",
    "- Checked for nulls (there were none)\n",
    "- Added a feature for marking a wine as a viable product or not.\n",
    "- Split data into train, validate, and test datasets, stratifying on 'quality'."
   ]
  },
  {
   "cell_type": "code",
   "execution_count": 3,
   "id": "10252199",
   "metadata": {},
   "outputs": [],
   "source": [
    "# creating is_viable feature\n",
    "df = p.create_viable(df)"
   ]
  },
  {
   "cell_type": "code",
   "execution_count": 4,
   "id": "9ee91eeb",
   "metadata": {},
   "outputs": [
    {
     "data": {
      "text/html": [
       "<div>\n",
       "<style scoped>\n",
       "    .dataframe tbody tr th:only-of-type {\n",
       "        vertical-align: middle;\n",
       "    }\n",
       "\n",
       "    .dataframe tbody tr th {\n",
       "        vertical-align: top;\n",
       "    }\n",
       "\n",
       "    .dataframe thead th {\n",
       "        text-align: right;\n",
       "    }\n",
       "</style>\n",
       "<table border=\"1\" class=\"dataframe\">\n",
       "  <thead>\n",
       "    <tr style=\"text-align: right;\">\n",
       "      <th></th>\n",
       "      <th>fixed acidity</th>\n",
       "      <th>volatile acidity</th>\n",
       "      <th>citric acid</th>\n",
       "      <th>residual sugar</th>\n",
       "      <th>chlorides</th>\n",
       "      <th>free sulfur dioxide</th>\n",
       "      <th>total sulfur dioxide</th>\n",
       "      <th>density</th>\n",
       "      <th>pH</th>\n",
       "      <th>sulphates</th>\n",
       "      <th>alcohol</th>\n",
       "      <th>quality</th>\n",
       "      <th>Id</th>\n",
       "      <th>is_viable</th>\n",
       "    </tr>\n",
       "  </thead>\n",
       "  <tbody>\n",
       "    <tr>\n",
       "      <th>0</th>\n",
       "      <td>7.4</td>\n",
       "      <td>0.70</td>\n",
       "      <td>0.00</td>\n",
       "      <td>1.9</td>\n",
       "      <td>0.076</td>\n",
       "      <td>11.0</td>\n",
       "      <td>34.0</td>\n",
       "      <td>0.9978</td>\n",
       "      <td>3.51</td>\n",
       "      <td>0.56</td>\n",
       "      <td>9.4</td>\n",
       "      <td>5</td>\n",
       "      <td>0</td>\n",
       "      <td>False</td>\n",
       "    </tr>\n",
       "    <tr>\n",
       "      <th>1</th>\n",
       "      <td>7.8</td>\n",
       "      <td>0.88</td>\n",
       "      <td>0.00</td>\n",
       "      <td>2.6</td>\n",
       "      <td>0.098</td>\n",
       "      <td>25.0</td>\n",
       "      <td>67.0</td>\n",
       "      <td>0.9968</td>\n",
       "      <td>3.20</td>\n",
       "      <td>0.68</td>\n",
       "      <td>9.8</td>\n",
       "      <td>5</td>\n",
       "      <td>1</td>\n",
       "      <td>False</td>\n",
       "    </tr>\n",
       "    <tr>\n",
       "      <th>2</th>\n",
       "      <td>7.8</td>\n",
       "      <td>0.76</td>\n",
       "      <td>0.04</td>\n",
       "      <td>2.3</td>\n",
       "      <td>0.092</td>\n",
       "      <td>15.0</td>\n",
       "      <td>54.0</td>\n",
       "      <td>0.9970</td>\n",
       "      <td>3.26</td>\n",
       "      <td>0.65</td>\n",
       "      <td>9.8</td>\n",
       "      <td>5</td>\n",
       "      <td>2</td>\n",
       "      <td>False</td>\n",
       "    </tr>\n",
       "    <tr>\n",
       "      <th>3</th>\n",
       "      <td>11.2</td>\n",
       "      <td>0.28</td>\n",
       "      <td>0.56</td>\n",
       "      <td>1.9</td>\n",
       "      <td>0.075</td>\n",
       "      <td>17.0</td>\n",
       "      <td>60.0</td>\n",
       "      <td>0.9980</td>\n",
       "      <td>3.16</td>\n",
       "      <td>0.58</td>\n",
       "      <td>9.8</td>\n",
       "      <td>6</td>\n",
       "      <td>3</td>\n",
       "      <td>True</td>\n",
       "    </tr>\n",
       "    <tr>\n",
       "      <th>4</th>\n",
       "      <td>7.4</td>\n",
       "      <td>0.70</td>\n",
       "      <td>0.00</td>\n",
       "      <td>1.9</td>\n",
       "      <td>0.076</td>\n",
       "      <td>11.0</td>\n",
       "      <td>34.0</td>\n",
       "      <td>0.9978</td>\n",
       "      <td>3.51</td>\n",
       "      <td>0.56</td>\n",
       "      <td>9.4</td>\n",
       "      <td>5</td>\n",
       "      <td>4</td>\n",
       "      <td>False</td>\n",
       "    </tr>\n",
       "  </tbody>\n",
       "</table>\n",
       "</div>"
      ],
      "text/plain": [
       "   fixed acidity  volatile acidity  citric acid  residual sugar  chlorides  \\\n",
       "0            7.4              0.70         0.00             1.9      0.076   \n",
       "1            7.8              0.88         0.00             2.6      0.098   \n",
       "2            7.8              0.76         0.04             2.3      0.092   \n",
       "3           11.2              0.28         0.56             1.9      0.075   \n",
       "4            7.4              0.70         0.00             1.9      0.076   \n",
       "\n",
       "   free sulfur dioxide  total sulfur dioxide  density    pH  sulphates  \\\n",
       "0                 11.0                  34.0   0.9978  3.51       0.56   \n",
       "1                 25.0                  67.0   0.9968  3.20       0.68   \n",
       "2                 15.0                  54.0   0.9970  3.26       0.65   \n",
       "3                 17.0                  60.0   0.9980  3.16       0.58   \n",
       "4                 11.0                  34.0   0.9978  3.51       0.56   \n",
       "\n",
       "   alcohol  quality  Id  is_viable  \n",
       "0      9.4        5   0      False  \n",
       "1      9.8        5   1      False  \n",
       "2      9.8        5   2      False  \n",
       "3      9.8        6   3       True  \n",
       "4      9.4        5   4      False  "
      ]
     },
     "execution_count": 4,
     "metadata": {},
     "output_type": "execute_result"
    }
   ],
   "source": [
    "df.head()"
   ]
  },
  {
   "cell_type": "code",
   "execution_count": 5,
   "id": "bc3e9418",
   "metadata": {},
   "outputs": [],
   "source": [
    "# splitting the data\n",
    "train, validate, test = p.split_wine(df)"
   ]
  },
  {
   "cell_type": "markdown",
   "id": "c8bfc89c",
   "metadata": {},
   "source": [
    "# Data Dictionary\n",
    "| Feature | Definition |\n",
    "| :- | :- |\n",
    "| quality | a numeric score based on reviews of the wine by consumers |\n",
    "| fixed acidity | set of low volatility organic acids such as malic, lactic, tartaric or citric acids. |\n",
    "| volatile acidity | a measure of the wine's volatile (or gaseous) acids. The primary volatile acid in wine is acetic acid, which is also the primary acid associated with the smell and taste of vinegar. |\n",
    "| citric acid | a measure of acid that is often added to wines to increase acidity, complement a specific flavor or prevent ferric hazes. |\n",
    "| residual sugar | sweetness in wine measured in grams per liter (g/L) of sugar. |\n",
    "| chlorides | a measure of salts of mineral and organic acids that affects the saltiness of flavor in wine. |\n",
    "| free sulfur dioxide | a measure of sulphur dioxide ions that are not chemically bound to other chemicals in solution and thus are free to react with substances |\n",
    "| density | mass of a unit volume of a material substance (in this case, the wine) |\n",
    "| pH | a figure expressing the acidity or alkalinity of a solution (in this case, the wine) |\n",
    "| sulphites | continuous variable, measured in ppm (parts per million), naturally occurring compounds found in all wines; they act as a preservative by inhibiting microbial growth.  |\n",
    "| alcohol | measurement of alcohol content in wine |"
   ]
  },
  {
   "cell_type": "markdown",
   "id": "28d6dd01",
   "metadata": {},
   "source": [
    "# Explore\n",
    "\n",
    "> Does volatile acidity share a relationship with quality?\n",
    "\n",
    "> Does citric acid share a relationship with quality?\n",
    "\n",
    "> Does fixed acidity share a relationship with quality?\n",
    "\n",
    "> Does pH share a relationship with quality?\n",
    "\n",
    "> Does sulphates share a relationship with quality?\n",
    "\n",
    "> Does alcohol share a relationship with quality?\n",
    "\n",
    "> Does residual sugar share a relationship with quality?\n",
    "\n",
    "> Does free sulphur dioxide share a relationship with quality?"
   ]
  },
  {
   "cell_type": "markdown",
   "id": "e4deb3f1",
   "metadata": {},
   "source": [
    "## Countplot of quality"
   ]
  },
  {
   "cell_type": "code",
   "execution_count": 6,
   "id": "fc6a4c0e",
   "metadata": {},
   "outputs": [
    {
     "data": {
      "image/png": "[encoded data removed]",
      "text/plain": [
       "<Figure size 432x288 with 1 Axes>"
      ]
     },
     "metadata": {},
     "output_type": "display_data"
    }
   ],
   "source": [
    "# countplot of quality\n",
    "e.get_countplot(train)"
   ]
  },
  {
   "cell_type": "markdown",
   "id": "67612e71",
   "metadata": {},
   "source": [
    "## Countplot of is_viable"
   ]
  },
  {
   "cell_type": "code",
   "execution_count": 7,
   "id": "858b8894",
   "metadata": {},
   "outputs": [
    {
     "data": {
      "image/png": "[encoded data removed]",
      "text/plain": [
       "<Figure size 432x288 with 1 Axes>"
      ]
     },
     "metadata": {},
     "output_type": "display_data"
    }
   ],
   "source": [
    "# countplot of is_viable\n",
    "e.get_countplot_viable(train)"
   ]
  },
  {
   "cell_type": "markdown",
   "id": "f0e83c40",
   "metadata": {},
   "source": [
    "## Does 'volatile acidity' share a relationship with 'is_viable'?"
   ]
  },
  {
   "cell_type": "code",
   "execution_count": 8,
   "id": "c7d6445d",
   "metadata": {},
   "outputs": [
    {
     "data": {
      "image/png": "[encoded data removed]",
      "text/plain": [
       "<Figure size 432x288 with 1 Axes>"
      ]
     },
     "metadata": {},
     "output_type": "display_data"
    }
   ],
   "source": [
    "# boxplot of volatile acidity\n",
    "e.get_volatile_boxplot(train)"
   ]
  },
  {
   "cell_type": "markdown",
   "id": "c5756cc7",
   "metadata": {},
   "source": [
    "#### I will use an independent t-test between two sample groups to determine if 'volatile acidity' and 'is_viable' are related.\n",
    "\n",
    ">One group will contain the volatile acidity of wines that are not viable.\n",
    "\n",
    ">The second group will contain the volatile acidity of wines that are viable.\n",
    "\n",
    ">I will use a confidence interval of 95% with alpha set to .05"
   ]
  },
  {
   "cell_type": "code",
   "execution_count": 9,
   "id": "b1bf0185",
   "metadata": {},
   "outputs": [
    {
     "name": "stdout",
     "output_type": "stream",
     "text": [
      "t     = 8.8387\n",
      "p     = 0.0000\n"
     ]
    }
   ],
   "source": [
    "# t-test of volatile acidity\n",
    "e.get_ttest_volatile(train)"
   ]
  },
  {
   "cell_type": "markdown",
   "id": "80f80836",
   "metadata": {},
   "source": [
    "### The p-value is lower than our alpha, giving us the evidence to support that a relationship exists between 'volatile acidity' and 'is_viable'. With our null hypothesis rejected, and the signifcant difference in volatile acidity between customers who have churned and customers who have not churned, I believe that using the 'Tenure' feature will have a significant positive impact on the model's accuracy."
   ]
  },
  {
   "cell_type": "markdown",
   "id": "155bf0af",
   "metadata": {},
   "source": [
    "## Does 'citric acid' share a relationship with 'is_viable'?"
   ]
  },
  {
   "cell_type": "code",
   "execution_count": 10,
   "id": "eae2426b",
   "metadata": {},
   "outputs": [
    {
     "data": {
      "image/png": "[encoded data removed]",
      "text/plain": [
       "<Figure size 432x288 with 1 Axes>"
      ]
     },
     "metadata": {},
     "output_type": "display_data"
    }
   ],
   "source": [
    "# boxplot of citric acid\n",
    "e.get_citric_boxplot(train)"
   ]
  },
  {
   "cell_type": "markdown",
   "id": "75373a2c",
   "metadata": {},
   "source": [
    "#### I will use an independent t-test between two sample groups to determine if 'citric acid' and 'is_viable' are related.\n",
    "\n",
    ">One group will contain the citric acid of wines that are not viable.\n",
    "\n",
    ">The second group will contain the citric acid of wines that are viable.\n",
    "\n",
    ">I will use a confidence interval of 95% with alpha set to .05"
   ]
  },
  {
   "cell_type": "code",
   "execution_count": 11,
   "id": "ffb79b3e",
   "metadata": {},
   "outputs": [
    {
     "name": "stdout",
     "output_type": "stream",
     "text": [
      "t     = -4.1518\n",
      "p     = 0.0000\n"
     ]
    }
   ],
   "source": [
    "# t-test of citric acid\n",
    "e.get_ind_ttest_citric_acid(train)"
   ]
  },
  {
   "cell_type": "markdown",
   "id": "dc872ce4",
   "metadata": {},
   "source": [
    "## Does fixed acidity share a relationship with quality?"
   ]
  },
  {
   "cell_type": "code",
   "execution_count": 12,
   "id": "438d105b",
   "metadata": {},
   "outputs": [
    {
     "data": {
      "image/png": "[encoded data removed]",
      "text/plain": [
       "<Figure size 432x288 with 1 Axes>"
      ]
     },
     "metadata": {},
     "output_type": "display_data"
    }
   ],
   "source": [
    "# boxplot of fixed acidity and quality\n",
    "e.get_fixed_acid_boxplot(train)"
   ]
  },
  {
   "cell_type": "code",
   "execution_count": 13,
   "id": "dd6e8e16",
   "metadata": {},
   "outputs": [
    {
     "name": "stdout",
     "output_type": "stream",
     "text": [
      "t     = -2.4383\n",
      "p     = 0.0150\n"
     ]
    }
   ],
   "source": [
    "# t-test of fixed acidity and quality\n",
    "e.get_ind_ttest_fixed_acid(train)"
   ]
  },
  {
   "cell_type": "markdown",
   "id": "b5899059",
   "metadata": {},
   "source": [
    "## Does pH share a relationship with quality?"
   ]
  },
  {
   "cell_type": "code",
   "execution_count": 14,
   "id": "153039c5",
   "metadata": {},
   "outputs": [
    {
     "data": {
      "image/png": "[encoded data removed]",
      "text/plain": [
       "<Figure size 432x288 with 1 Axes>"
      ]
     },
     "metadata": {},
     "output_type": "display_data"
    }
   ],
   "source": [
    "# boxplot of pH\n",
    "e.get_pH_boxplot(train)"
   ]
  },
  {
   "cell_type": "code",
   "execution_count": 15,
   "id": "09a2c58d",
   "metadata": {},
   "outputs": [
    {
     "name": "stdout",
     "output_type": "stream",
     "text": [
      "t     = -1.5322\n",
      "p     = 0.1260\n"
     ]
    }
   ],
   "source": [
    "# t-test of pH\n",
    "e.get_ind_ttest_ph(train)"
   ]
  },
  {
   "cell_type": "markdown",
   "id": "bca1a8ee",
   "metadata": {},
   "source": [
    "## Does sulphates share a relationship with quality?"
   ]
  },
  {
   "cell_type": "code",
   "execution_count": 16,
   "id": "48eb4f82",
   "metadata": {},
   "outputs": [
    {
     "data": {
      "image/png": "[encoded data removed]",
      "text/plain": [
       "<Figure size 432x288 with 1 Axes>"
      ]
     },
     "metadata": {},
     "output_type": "display_data"
    }
   ],
   "source": [
    "# boxplot of sulphates vs quality\n",
    "e.get_sulphates_boxplot(train)"
   ]
  },
  {
   "cell_type": "code",
   "execution_count": 17,
   "id": "eb841ff9",
   "metadata": {},
   "outputs": [
    {
     "name": "stdout",
     "output_type": "stream",
     "text": [
      "t     = -6.8459\n",
      "p     = 0.0000\n"
     ]
    }
   ],
   "source": [
    "e.get_ind_ttest_sulphates(train)"
   ]
  },
  {
   "cell_type": "markdown",
   "id": "c5b1e55b",
   "metadata": {},
   "source": [
    "## Does alcohol share a relationship with quality?"
   ]
  },
  {
   "cell_type": "code",
   "execution_count": 18,
   "id": "838dc2e7",
   "metadata": {},
   "outputs": [
    {
     "data": {
      "image/png": "[encoded data removed]",
      "text/plain": [
       "<Figure size 432x288 with 1 Axes>"
      ]
     },
     "metadata": {},
     "output_type": "display_data"
    }
   ],
   "source": [
    "e.get_alcohol_boxplot(train)"
   ]
  },
  {
   "cell_type": "code",
   "execution_count": 19,
   "id": "3dfe838f",
   "metadata": {},
   "outputs": [
    {
     "name": "stdout",
     "output_type": "stream",
     "text": [
      "t     = -14.1206\n",
      "p     = 0.0000\n"
     ]
    }
   ],
   "source": [
    "e.get_ind_ttest_alcohol(train)"
   ]
  },
  {
   "cell_type": "markdown",
   "id": "f576e5ad",
   "metadata": {},
   "source": [
    "## Does residual sugar share a relationship with quality?"
   ]
  },
  {
   "cell_type": "code",
   "execution_count": 20,
   "id": "9c4accb6",
   "metadata": {},
   "outputs": [
    {
     "data": {
      "image/png": "[encoded data removed]",
      "text/plain": [
       "<Figure size 432x288 with 1 Axes>"
      ]
     },
     "metadata": {},
     "output_type": "display_data"
    }
   ],
   "source": [
    "e.get_residual_sugar_boxplot(train)"
   ]
  },
  {
   "cell_type": "code",
   "execution_count": 21,
   "id": "28eda15b",
   "metadata": {},
   "outputs": [
    {
     "name": "stdout",
     "output_type": "stream",
     "text": [
      "t     = 0.0569\n",
      "p     = 0.9546\n"
     ]
    }
   ],
   "source": [
    "e.get_ind_ttest_residsugar(train)"
   ]
  },
  {
   "cell_type": "markdown",
   "id": "dac83e6f",
   "metadata": {},
   "source": [
    "## Does free sulphur dioxide share a relationship with quality?"
   ]
  },
  {
   "cell_type": "code",
   "execution_count": 22,
   "id": "22afe2ac",
   "metadata": {},
   "outputs": [
    {
     "data": {
      "image/png": "[encoded data removed]",
      "text/plain": [
       "<Figure size 432x288 with 1 Axes>"
      ]
     },
     "metadata": {},
     "output_type": "display_data"
    }
   ],
   "source": [
    "e.get_free_sulf_dio_boxplot(train)"
   ]
  },
  {
   "cell_type": "code",
   "execution_count": 23,
   "id": "e489538b",
   "metadata": {
    "scrolled": true
   },
   "outputs": [
    {
     "name": "stdout",
     "output_type": "stream",
     "text": [
      "t     = 2.5557\n",
      "p     = 0.0109\n"
     ]
    }
   ],
   "source": [
    "e.get_ind_ttest_free_sulf_dio(train)"
   ]
  },
  {
   "cell_type": "markdown",
   "id": "46d312f9",
   "metadata": {},
   "source": [
    "# Modeling"
   ]
  },
  {
   "cell_type": "code",
   "execution_count": 24,
   "id": "654445fc",
   "metadata": {},
   "outputs": [],
   "source": [
    "train_x, validate_x, test_x, train_y, validate_y, test_y = m.model_prep(train, validate, test)"
   ]
  },
  {
   "cell_type": "code",
   "execution_count": 25,
   "id": "00b78f33",
   "metadata": {},
   "outputs": [
    {
     "name": "stdout",
     "output_type": "stream",
     "text": [
      "Accuracy of Decision Tree on train data is 0.7856025039123631\n",
      "Accuracy of Decision Tree on validate data is 0.7163636363636363\n"
     ]
    }
   ],
   "source": [
    "m.get_tree(train_x, validate_x, train_y, validate_y)"
   ]
  },
  {
   "cell_type": "code",
   "execution_count": 26,
   "id": "d0148989",
   "metadata": {},
   "outputs": [
    {
     "name": "stdout",
     "output_type": "stream",
     "text": [
      "Accuracy of Random Forest on train data is 0.8184663536776213\n",
      "Accuracy of Random Forest on validate data is 0.7527272727272727\n"
     ]
    }
   ],
   "source": [
    "m.get_rf(train_x, validate_x, train_y, validate_y)"
   ]
  },
  {
   "cell_type": "code",
   "execution_count": 27,
   "id": "e4be3b5d",
   "metadata": {},
   "outputs": [
    {
     "name": "stdout",
     "output_type": "stream",
     "text": [
      "Accuracy of Logistic Regression on train is 0.7449139280125195\n",
      "Accuracy of Logistic Regression on validate is 0.72\n"
     ]
    }
   ],
   "source": [
    "m.get_reg(train_x, validate_x, train_y, validate_y)"
   ]
  },
  {
   "cell_type": "code",
   "execution_count": 28,
   "id": "fb49958d",
   "metadata": {},
   "outputs": [
    {
     "name": "stdout",
     "output_type": "stream",
     "text": [
      "Accuracy of KNN on train is 0.7652582159624414\n",
      "Accuracy of KNN on validate is 0.6654545454545454\n"
     ]
    }
   ],
   "source": [
    "m.get_knn(train_x, validate_x, train_y, validate_y)"
   ]
  },
  {
   "cell_type": "markdown",
   "id": "ecb4437c",
   "metadata": {},
   "source": [
    "# Random Forest on Test"
   ]
  },
  {
   "cell_type": "code",
   "execution_count": 29,
   "id": "cdb878c7",
   "metadata": {},
   "outputs": [
    {
     "name": "stdout",
     "output_type": "stream",
     "text": [
      "Accuracy of Random Forest on train data is 0.8184663536776213\n",
      "Accuracy of Random Forest on test data is 0.7527272727272727\n"
     ]
    }
   ],
   "source": [
    "m.get_rf_test(train_x, validate_x, train_y, validate_y)"
   ]
  },
  {
   "cell_type": "markdown",
   "id": "19fad063",
   "metadata": {},
   "source": [
    "# Conclusion"
   ]
  },
  {
   "cell_type": "code",
   "execution_count": null,
   "id": "c665906c",
   "metadata": {},
   "outputs": [],
   "source": []
  }
 ],
 "metadata": {
  "kernelspec": {
   "display_name": "Python 3 (ipykernel)",
   "language": "python",
   "name": "python3"
  },
  "language_info": {
   "codemirror_mode": {
    "name": "ipython",
    "version": 3
   },
   "file_extension": ".py",
   "mimetype": "text/x-python",
   "name": "python",
   "nbconvert_exporter": "python",
   "pygments_lexer": "ipython3",
   "version": "3.9.12"
  }
 },
 "nbformat": 4,
 "nbformat_minor": 5
}
