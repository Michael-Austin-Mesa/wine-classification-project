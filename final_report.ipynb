{
 "cells": [
  {
   "cell_type": "code",
   "execution_count": 12,
   "id": "946a6bf7",
   "metadata": {},
   "outputs": [],
   "source": [
    "import pandas as pd\n",
    "import numpy as np\n",
    "\n",
    "import matplotlib.pyplot as plt\n",
    "import seaborn as sns\n",
    "import os\n",
    "\n",
    "from sklearn.model_selection import train_test_split\n",
    "import sklearn.preprocessing\n",
    "from sklearn.tree import DecisionTreeClassifier\n",
    "from sklearn.ensemble import RandomForestClassifier\n",
    "from sklearn.neighbors import KNeighborsClassifier\n",
    "from sklearn.linear_model import LogisticRegression\n",
    "\n",
    "import warnings\n",
    "warnings.filterwarnings(\"ignore\")\n",
    "\n",
    "from scipy import stats\n",
    "import re\n",
    "\n",
    "#import acquire as a\n",
    "#import prepare as p\n",
    "#import explore as e\n",
    "#import modeling as m"
   ]
  },
  {
   "cell_type": "markdown",
   "id": "bb0f9a53",
   "metadata": {},
   "source": [
    "# acquire"
   ]
  },
  {
   "cell_type": "code",
   "execution_count": 8,
   "id": "d8023a4a",
   "metadata": {},
   "outputs": [],
   "source": [
    "df = pd.read_csv('Wine_Viable.csv', index_col='Unnamed: 0')"
   ]
  },
  {
   "cell_type": "markdown",
   "id": "e0a999d6",
   "metadata": {},
   "source": [
    "# prep"
   ]
  },
  {
   "cell_type": "code",
   "execution_count": null,
   "id": "3237d658",
   "metadata": {},
   "outputs": [],
   "source": [
    "train, validate, test = p.split_wine(df)"
   ]
  },
  {
   "cell_type": "markdown",
   "id": "dda91c51",
   "metadata": {},
   "source": [
    "# explore"
   ]
  },
  {
   "cell_type": "markdown",
   "id": "832c0a34",
   "metadata": {},
   "source": [
    "### countplot of quality"
   ]
  },
  {
   "cell_type": "code",
   "execution_count": null,
   "id": "962ed79f",
   "metadata": {},
   "outputs": [],
   "source": [
    "e.get_countplot()"
   ]
  },
  {
   "cell_type": "markdown",
   "id": "fa6ad75f",
   "metadata": {},
   "source": [
    "### countplot of is_viable"
   ]
  },
  {
   "cell_type": "code",
   "execution_count": 14,
   "id": "432bc721",
   "metadata": {},
   "outputs": [
    {
     "ename": "NameError",
     "evalue": "name 'e' is not defined",
     "output_type": "error",
     "traceback": [
      "\u001b[0;31m---------------------------------------------------------------------------\u001b[0m",
      "\u001b[0;31mNameError\u001b[0m                                 Traceback (most recent call last)",
      "Input \u001b[0;32mIn [14]\u001b[0m, in \u001b[0;36m<cell line: 1>\u001b[0;34m()\u001b[0m\n\u001b[0;32m----> 1\u001b[0m \u001b[43me\u001b[49m\u001b[38;5;241m.\u001b[39mget_countplot_viable()\n",
      "\u001b[0;31mNameError\u001b[0m: name 'e' is not defined"
     ]
    }
   ],
   "source": [
    "e.get_countplot_viable()"
   ]
  },
  {
   "cell_type": "code",
   "execution_count": null,
   "id": "802b1894",
   "metadata": {},
   "outputs": [],
   "source": []
  }
 ],
 "metadata": {
  "kernelspec": {
   "display_name": "Python 3 (ipykernel)",
   "language": "python",
   "name": "python3"
  },
  "language_info": {
   "codemirror_mode": {
    "name": "ipython",
    "version": 3
   },
   "file_extension": ".py",
   "mimetype": "text/x-python",
   "name": "python",
   "nbconvert_exporter": "python",
   "pygments_lexer": "ipython3",
   "version": "3.9.12"
  }
 },
 "nbformat": 4,
 "nbformat_minor": 5
}
