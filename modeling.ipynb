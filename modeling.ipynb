{
 "cells": [
  {
   "cell_type": "code",
   "execution_count": 1,
   "id": "9c4a401a",
   "metadata": {},
   "outputs": [],
   "source": [
    "import pandas as pd\n",
    "import numpy as np\n",
    "\n",
    "import matplotlib.pyplot as plt\n",
    "import seaborn as sns\n",
    "import os\n",
    "\n",
    "from sklearn.model_selection import train_test_split\n",
    "import sklearn.preprocessing\n",
    "from sklearn.tree import DecisionTreeClassifier\n",
    "from sklearn.ensemble import RandomForestClassifier\n",
    "from sklearn.neighbors import KNeighborsClassifier\n",
    "from sklearn.linear_model import LogisticRegression\n",
    "\n",
    "import warnings\n",
    "warnings.filterwarnings(\"ignore\")\n",
    "\n",
    "from scipy import stats\n",
    "import re\n",
    "\n",
    "#import acquire\n",
    "#import prepare"
   ]
  },
  {
   "cell_type": "code",
   "execution_count": 2,
   "id": "46d1dc93",
   "metadata": {},
   "outputs": [],
   "source": [
    "df = pd.read_csv('Wine_Viable.csv')"
   ]
  },
  {
   "cell_type": "code",
   "execution_count": 3,
   "id": "6d171cb0",
   "metadata": {},
   "outputs": [
    {
     "data": {
      "text/html": [
       "<div>\n",
       "<style scoped>\n",
       "    .dataframe tbody tr th:only-of-type {\n",
       "        vertical-align: middle;\n",
       "    }\n",
       "\n",
       "    .dataframe tbody tr th {\n",
       "        vertical-align: top;\n",
       "    }\n",
       "\n",
       "    .dataframe thead th {\n",
       "        text-align: right;\n",
       "    }\n",
       "</style>\n",
       "<table border=\"1\" class=\"dataframe\">\n",
       "  <thead>\n",
       "    <tr style=\"text-align: right;\">\n",
       "      <th></th>\n",
       "      <th>Unnamed: 0</th>\n",
       "      <th>fixed acidity</th>\n",
       "      <th>volatile acidity</th>\n",
       "      <th>citric acid</th>\n",
       "      <th>residual sugar</th>\n",
       "      <th>chlorides</th>\n",
       "      <th>free sulfur dioxide</th>\n",
       "      <th>total sulfur dioxide</th>\n",
       "      <th>density</th>\n",
       "      <th>pH</th>\n",
       "      <th>sulphates</th>\n",
       "      <th>alcohol</th>\n",
       "      <th>quality</th>\n",
       "      <th>Id</th>\n",
       "      <th>is_viable</th>\n",
       "    </tr>\n",
       "  </thead>\n",
       "  <tbody>\n",
       "    <tr>\n",
       "      <th>0</th>\n",
       "      <td>0</td>\n",
       "      <td>7.4</td>\n",
       "      <td>0.70</td>\n",
       "      <td>0.00</td>\n",
       "      <td>1.9</td>\n",
       "      <td>0.076</td>\n",
       "      <td>11.0</td>\n",
       "      <td>34.0</td>\n",
       "      <td>0.9978</td>\n",
       "      <td>3.51</td>\n",
       "      <td>0.56</td>\n",
       "      <td>9.4</td>\n",
       "      <td>5</td>\n",
       "      <td>0</td>\n",
       "      <td>False</td>\n",
       "    </tr>\n",
       "    <tr>\n",
       "      <th>1</th>\n",
       "      <td>1</td>\n",
       "      <td>7.8</td>\n",
       "      <td>0.88</td>\n",
       "      <td>0.00</td>\n",
       "      <td>2.6</td>\n",
       "      <td>0.098</td>\n",
       "      <td>25.0</td>\n",
       "      <td>67.0</td>\n",
       "      <td>0.9968</td>\n",
       "      <td>3.20</td>\n",
       "      <td>0.68</td>\n",
       "      <td>9.8</td>\n",
       "      <td>5</td>\n",
       "      <td>1</td>\n",
       "      <td>False</td>\n",
       "    </tr>\n",
       "    <tr>\n",
       "      <th>2</th>\n",
       "      <td>2</td>\n",
       "      <td>7.8</td>\n",
       "      <td>0.76</td>\n",
       "      <td>0.04</td>\n",
       "      <td>2.3</td>\n",
       "      <td>0.092</td>\n",
       "      <td>15.0</td>\n",
       "      <td>54.0</td>\n",
       "      <td>0.9970</td>\n",
       "      <td>3.26</td>\n",
       "      <td>0.65</td>\n",
       "      <td>9.8</td>\n",
       "      <td>5</td>\n",
       "      <td>2</td>\n",
       "      <td>False</td>\n",
       "    </tr>\n",
       "  </tbody>\n",
       "</table>\n",
       "</div>"
      ],
      "text/plain": [
       "   Unnamed: 0  fixed acidity  volatile acidity  citric acid  residual sugar  \\\n",
       "0           0            7.4              0.70         0.00             1.9   \n",
       "1           1            7.8              0.88         0.00             2.6   \n",
       "2           2            7.8              0.76         0.04             2.3   \n",
       "\n",
       "   chlorides  free sulfur dioxide  total sulfur dioxide  density    pH  \\\n",
       "0      0.076                 11.0                  34.0   0.9978  3.51   \n",
       "1      0.098                 25.0                  67.0   0.9968  3.20   \n",
       "2      0.092                 15.0                  54.0   0.9970  3.26   \n",
       "\n",
       "   sulphates  alcohol  quality  Id  is_viable  \n",
       "0       0.56      9.4        5   0      False  \n",
       "1       0.68      9.8        5   1      False  \n",
       "2       0.65      9.8        5   2      False  "
      ]
     },
     "execution_count": 3,
     "metadata": {},
     "output_type": "execute_result"
    }
   ],
   "source": [
    "df.head(3)"
   ]
  },
  {
   "cell_type": "markdown",
   "id": "478efd0b",
   "metadata": {},
   "source": [
    "## features to model:\n",
    "### volatile acidity, citric acid, fixed acidity))), sulphates, alcohol, free sulphur dioxide)))"
   ]
  },
  {
   "cell_type": "markdown",
   "id": "77223929",
   "metadata": {},
   "source": [
    "))) possible drops from modeling"
   ]
  },
  {
   "cell_type": "code",
   "execution_count": 4,
   "id": "aa177d65",
   "metadata": {},
   "outputs": [],
   "source": [
    "def split_wine(df):\n",
    "    '''\n",
    "    This function performs split on WineQT data, stratify quality.\n",
    "    Returns train, validate, and test dfs.\n",
    "    '''\n",
    "    train_validate, test = train_test_split(df, test_size=.2, \n",
    "                                        random_state=123, \n",
    "                                        stratify=df.quality)\n",
    "    train, validate = train_test_split(train_validate, test_size=.3, \n",
    "                                   random_state=123, \n",
    "                                   stratify=train_validate.quality)\n",
    "    return train, validate, test"
   ]
  },
  {
   "cell_type": "code",
   "execution_count": 11,
   "id": "7c4ae76d",
   "metadata": {},
   "outputs": [],
   "source": [
    "def model_prep(train, validate, test):\n",
    "    #features to keep\n",
    "    keep_columns = ['volatile acidity','citric acid','fixed acidity','sulphates', 'alcohol', 'free sulfur dioxide', 'is_viable'] \n",
    "    train = train[keep_columns]\n",
    "    validate = validate[keep_columns]\n",
    "    test = test[keep_columns]\n",
    "    \n",
    "    train_x = train.drop(columns='is_viable').reset_index(drop=True)\n",
    "    train_y = train[['is_viable']].reset_index(drop=True)\n",
    "\n",
    "    validate_x = validate.drop(columns='is_viable').reset_index(drop=True)\n",
    "    validate_y = validate[['is_viable']].reset_index(drop=True)\n",
    "\n",
    "    test_x = test.drop(columns='is_viable').reset_index(drop=True)\n",
    "    test_y = test[['is_viable']].reset_index(drop=True)\n",
    "    \n",
    "    return train_x, validate_x, test_x, train_y, validate_y, test_y"
   ]
  },
  {
   "cell_type": "code",
   "execution_count": 55,
   "id": "7c9693fb",
   "metadata": {},
   "outputs": [],
   "source": [
    "def get_tree(train_x, validate_x, train_y, validate_y):\n",
    "    \n",
    "    '''get decision tree accuracy on train and validate'''\n",
    "    #create classifier then fit\n",
    "    tree = DecisionTreeClassifier(max_depth=4, random_state=123)\n",
    "    tree = tree.fit(train_x, train_y)\n",
    "\n",
    "    print(f\"Accuracy of Decision Tree on train data is {tree.score(train_x, train_y)}\")\n",
    "    print(f\"Accuracy of Decision Tree on validate data is {tree.score(validate_x, validate_y)}\")\n",
    "    \n",
    "\n",
    "\n",
    "def get_rf(train_x, validate_x, train_y, validate_y):\n",
    "\n",
    "    '''get rf accuracy on train and validate'''\n",
    "    #create classifier and fit\n",
    "    rf = RandomForestClassifier(max_depth=4, random_state=123)\n",
    "    rf = rf.fit(train_x, train_y)\n",
    "\n",
    "    print(f\"Accuracy of Random Forest on train data is {rf.score(train_x, train_y)}\")\n",
    "    print(f\"Accuracy of Random Forest on validate data is {rf.score(validate_x, validate_y)}\")\n",
    "\n",
    "\n",
    "def get_reg(train_x, validate_x, train_y, validate_y):\n",
    "\n",
    "    '''get reg accuracy on train and validate'''\n",
    "    #create classifier and fit\n",
    "    logit = LogisticRegression(solver='liblinear')\n",
    "    logit = logit.fit(train_x, train_y)\n",
    "\n",
    "    print(f\"Accuracy of Logistic Regression on train is {logit.score(train_x, train_y)}\")\n",
    "    print(f\"Accuracy of Logistic Regression on validate is {logit.score(validate_x, validate_y)}\")\n",
    "\n",
    "\n",
    "\n",
    "def get_knn(train_x, validate_x, train_y, validate_y):\n",
    "    \n",
    "    '''get knn accuracy on train and validate'''\n",
    "    knn = KNeighborsClassifier(n_neighbors=7, weights='uniform')\n",
    "    knn = knn.fit(train_x, train_y)\n",
    "\n",
    "    # print results\n",
    "    print(f\"Accuracy of KNN on train is {knn.score(train_x, train_y)}\")\n",
    "    print(f\"Accuracy of KNN on validate is {knn.score(validate_x, validate_y)}\")\n",
    "\n"
   ]
  },
  {
   "cell_type": "code",
   "execution_count": 9,
   "id": "52aa0a49",
   "metadata": {},
   "outputs": [],
   "source": [
    "train, validate, test = split_wine(df)"
   ]
  },
  {
   "cell_type": "code",
   "execution_count": 12,
   "id": "6e825434",
   "metadata": {},
   "outputs": [],
   "source": [
    "train_x, validate_x, test_x, train_y, validate_y, test_y = model_prep(train, validate, test)"
   ]
  },
  {
   "cell_type": "code",
   "execution_count": 13,
   "id": "37f14f29",
   "metadata": {},
   "outputs": [
    {
     "data": {
      "text/html": [
       "<div>\n",
       "<style scoped>\n",
       "    .dataframe tbody tr th:only-of-type {\n",
       "        vertical-align: middle;\n",
       "    }\n",
       "\n",
       "    .dataframe tbody tr th {\n",
       "        vertical-align: top;\n",
       "    }\n",
       "\n",
       "    .dataframe thead th {\n",
       "        text-align: right;\n",
       "    }\n",
       "</style>\n",
       "<table border=\"1\" class=\"dataframe\">\n",
       "  <thead>\n",
       "    <tr style=\"text-align: right;\">\n",
       "      <th></th>\n",
       "      <th>volatile acidity</th>\n",
       "      <th>citric acid</th>\n",
       "      <th>fixed acidity</th>\n",
       "      <th>sulphates</th>\n",
       "      <th>alcohol</th>\n",
       "      <th>free sulfur dioxide</th>\n",
       "    </tr>\n",
       "  </thead>\n",
       "  <tbody>\n",
       "    <tr>\n",
       "      <th>0</th>\n",
       "      <td>0.280</td>\n",
       "      <td>0.54</td>\n",
       "      <td>12.5</td>\n",
       "      <td>1.36</td>\n",
       "      <td>9.800000</td>\n",
       "      <td>12.0</td>\n",
       "    </tr>\n",
       "    <tr>\n",
       "      <th>1</th>\n",
       "      <td>0.420</td>\n",
       "      <td>0.35</td>\n",
       "      <td>9.6</td>\n",
       "      <td>0.66</td>\n",
       "      <td>11.100000</td>\n",
       "      <td>17.0</td>\n",
       "    </tr>\n",
       "    <tr>\n",
       "      <th>2</th>\n",
       "      <td>0.670</td>\n",
       "      <td>0.02</td>\n",
       "      <td>7.3</td>\n",
       "      <td>0.68</td>\n",
       "      <td>11.066667</td>\n",
       "      <td>31.0</td>\n",
       "    </tr>\n",
       "    <tr>\n",
       "      <th>3</th>\n",
       "      <td>0.580</td>\n",
       "      <td>0.00</td>\n",
       "      <td>7.4</td>\n",
       "      <td>0.58</td>\n",
       "      <td>11.300000</td>\n",
       "      <td>7.0</td>\n",
       "    </tr>\n",
       "    <tr>\n",
       "      <th>4</th>\n",
       "      <td>0.645</td>\n",
       "      <td>0.25</td>\n",
       "      <td>8.6</td>\n",
       "      <td>0.60</td>\n",
       "      <td>10.000000</td>\n",
       "      <td>8.0</td>\n",
       "    </tr>\n",
       "    <tr>\n",
       "      <th>...</th>\n",
       "      <td>...</td>\n",
       "      <td>...</td>\n",
       "      <td>...</td>\n",
       "      <td>...</td>\n",
       "      <td>...</td>\n",
       "      <td>...</td>\n",
       "    </tr>\n",
       "    <tr>\n",
       "      <th>634</th>\n",
       "      <td>0.640</td>\n",
       "      <td>0.21</td>\n",
       "      <td>7.7</td>\n",
       "      <td>0.45</td>\n",
       "      <td>9.900000</td>\n",
       "      <td>32.0</td>\n",
       "    </tr>\n",
       "    <tr>\n",
       "      <th>635</th>\n",
       "      <td>0.470</td>\n",
       "      <td>0.43</td>\n",
       "      <td>10.8</td>\n",
       "      <td>0.76</td>\n",
       "      <td>10.800000</td>\n",
       "      <td>27.0</td>\n",
       "    </tr>\n",
       "    <tr>\n",
       "      <th>636</th>\n",
       "      <td>0.430</td>\n",
       "      <td>0.30</td>\n",
       "      <td>8.3</td>\n",
       "      <td>0.61</td>\n",
       "      <td>10.500000</td>\n",
       "      <td>7.0</td>\n",
       "    </tr>\n",
       "    <tr>\n",
       "      <th>637</th>\n",
       "      <td>0.885</td>\n",
       "      <td>0.20</td>\n",
       "      <td>8.2</td>\n",
       "      <td>0.46</td>\n",
       "      <td>10.000000</td>\n",
       "      <td>7.0</td>\n",
       "    </tr>\n",
       "    <tr>\n",
       "      <th>638</th>\n",
       "      <td>0.885</td>\n",
       "      <td>0.03</td>\n",
       "      <td>7.9</td>\n",
       "      <td>0.33</td>\n",
       "      <td>9.100000</td>\n",
       "      <td>4.0</td>\n",
       "    </tr>\n",
       "  </tbody>\n",
       "</table>\n",
       "<p>639 rows × 6 columns</p>\n",
       "</div>"
      ],
      "text/plain": [
       "     volatile acidity  citric acid  fixed acidity  sulphates    alcohol  \\\n",
       "0               0.280         0.54           12.5       1.36   9.800000   \n",
       "1               0.420         0.35            9.6       0.66  11.100000   \n",
       "2               0.670         0.02            7.3       0.68  11.066667   \n",
       "3               0.580         0.00            7.4       0.58  11.300000   \n",
       "4               0.645         0.25            8.6       0.60  10.000000   \n",
       "..                ...          ...            ...        ...        ...   \n",
       "634             0.640         0.21            7.7       0.45   9.900000   \n",
       "635             0.470         0.43           10.8       0.76  10.800000   \n",
       "636             0.430         0.30            8.3       0.61  10.500000   \n",
       "637             0.885         0.20            8.2       0.46  10.000000   \n",
       "638             0.885         0.03            7.9       0.33   9.100000   \n",
       "\n",
       "     free sulfur dioxide  \n",
       "0                   12.0  \n",
       "1                   17.0  \n",
       "2                   31.0  \n",
       "3                    7.0  \n",
       "4                    8.0  \n",
       "..                   ...  \n",
       "634                 32.0  \n",
       "635                 27.0  \n",
       "636                  7.0  \n",
       "637                  7.0  \n",
       "638                  4.0  \n",
       "\n",
       "[639 rows x 6 columns]"
      ]
     },
     "execution_count": 13,
     "metadata": {},
     "output_type": "execute_result"
    }
   ],
   "source": [
    "train_x"
   ]
  },
  {
   "cell_type": "code",
   "execution_count": 14,
   "id": "f205aa99",
   "metadata": {
    "scrolled": true
   },
   "outputs": [
    {
     "data": {
      "text/html": [
       "<div>\n",
       "<style scoped>\n",
       "    .dataframe tbody tr th:only-of-type {\n",
       "        vertical-align: middle;\n",
       "    }\n",
       "\n",
       "    .dataframe tbody tr th {\n",
       "        vertical-align: top;\n",
       "    }\n",
       "\n",
       "    .dataframe thead th {\n",
       "        text-align: right;\n",
       "    }\n",
       "</style>\n",
       "<table border=\"1\" class=\"dataframe\">\n",
       "  <thead>\n",
       "    <tr style=\"text-align: right;\">\n",
       "      <th></th>\n",
       "      <th>is_viable</th>\n",
       "    </tr>\n",
       "  </thead>\n",
       "  <tbody>\n",
       "    <tr>\n",
       "      <th>0</th>\n",
       "      <td>True</td>\n",
       "    </tr>\n",
       "    <tr>\n",
       "      <th>1</th>\n",
       "      <td>True</td>\n",
       "    </tr>\n",
       "    <tr>\n",
       "      <th>2</th>\n",
       "      <td>True</td>\n",
       "    </tr>\n",
       "    <tr>\n",
       "      <th>3</th>\n",
       "      <td>True</td>\n",
       "    </tr>\n",
       "    <tr>\n",
       "      <th>4</th>\n",
       "      <td>True</td>\n",
       "    </tr>\n",
       "    <tr>\n",
       "      <th>...</th>\n",
       "      <td>...</td>\n",
       "    </tr>\n",
       "    <tr>\n",
       "      <th>634</th>\n",
       "      <td>False</td>\n",
       "    </tr>\n",
       "    <tr>\n",
       "      <th>635</th>\n",
       "      <td>True</td>\n",
       "    </tr>\n",
       "    <tr>\n",
       "      <th>636</th>\n",
       "      <td>False</td>\n",
       "    </tr>\n",
       "    <tr>\n",
       "      <th>637</th>\n",
       "      <td>False</td>\n",
       "    </tr>\n",
       "    <tr>\n",
       "      <th>638</th>\n",
       "      <td>False</td>\n",
       "    </tr>\n",
       "  </tbody>\n",
       "</table>\n",
       "<p>639 rows × 1 columns</p>\n",
       "</div>"
      ],
      "text/plain": [
       "     is_viable\n",
       "0         True\n",
       "1         True\n",
       "2         True\n",
       "3         True\n",
       "4         True\n",
       "..         ...\n",
       "634      False\n",
       "635       True\n",
       "636      False\n",
       "637      False\n",
       "638      False\n",
       "\n",
       "[639 rows x 1 columns]"
      ]
     },
     "execution_count": 14,
     "metadata": {},
     "output_type": "execute_result"
    }
   ],
   "source": [
    "train_y"
   ]
  },
  {
   "cell_type": "code",
   "execution_count": 27,
   "id": "c1349321",
   "metadata": {
    "scrolled": true
   },
   "outputs": [
    {
     "data": {
      "text/plain": [
       "54.460093896713616"
      ]
     },
     "execution_count": 27,
     "metadata": {},
     "output_type": "execute_result"
    }
   ],
   "source": [
    "348/639*100"
   ]
  },
  {
   "cell_type": "markdown",
   "id": "1554cf4c",
   "metadata": {},
   "source": [
    "## 54.46% Baseline accuracy (assuming viable every time)"
   ]
  },
  {
   "cell_type": "markdown",
   "id": "92335033",
   "metadata": {},
   "source": [
    "## Decision Tree"
   ]
  },
  {
   "cell_type": "code",
   "execution_count": 39,
   "id": "abffeb2f",
   "metadata": {
    "scrolled": true
   },
   "outputs": [
    {
     "name": "stdout",
     "output_type": "stream",
     "text": [
      "Accuracy of Decision Tree on train data is 0.7856025039123631\n",
      "Accuracy of Decision Tree on validate data is 0.7163636363636363\n"
     ]
    }
   ],
   "source": [
    "get_tree(train_x, validate_x, train_y, validate_y)"
   ]
  },
  {
   "cell_type": "markdown",
   "id": "8d835dfc",
   "metadata": {},
   "source": [
    "## Random Forest"
   ]
  },
  {
   "cell_type": "code",
   "execution_count": 40,
   "id": "98a290e8",
   "metadata": {
    "scrolled": true
   },
   "outputs": [
    {
     "name": "stdout",
     "output_type": "stream",
     "text": [
      "Accuracy of Random Forest on train data is 0.8184663536776213\n",
      "Accuracy of Random Forest on validate data is 0.7527272727272727\n"
     ]
    }
   ],
   "source": [
    "get_rf(train_x, validate_x, train_y, validate_y)"
   ]
  },
  {
   "cell_type": "markdown",
   "id": "bc5b9f31",
   "metadata": {},
   "source": [
    "## Logistic Regression"
   ]
  },
  {
   "cell_type": "code",
   "execution_count": 41,
   "id": "d4dd1030",
   "metadata": {},
   "outputs": [
    {
     "name": "stdout",
     "output_type": "stream",
     "text": [
      "Accuracy of Logistic Regression on train is 0.7449139280125195\n",
      "Accuracy of Logistic Regression on validate is 0.72\n"
     ]
    }
   ],
   "source": [
    "get_reg(train_x, validate_x, train_y, validate_y)"
   ]
  },
  {
   "cell_type": "markdown",
   "id": "7c508dfc",
   "metadata": {},
   "source": [
    "## KNN"
   ]
  },
  {
   "cell_type": "code",
   "execution_count": 56,
   "id": "e64cb77b",
   "metadata": {},
   "outputs": [
    {
     "name": "stdout",
     "output_type": "stream",
     "text": [
      "Accuracy of KNN on train is 0.7652582159624414\n",
      "Accuracy of KNN on validate is 0.6654545454545454\n"
     ]
    }
   ],
   "source": [
    "get_knn(train_x, validate_x, train_y, validate_y)"
   ]
  },
  {
   "cell_type": "markdown",
   "id": "faf5842a",
   "metadata": {},
   "source": [
    "### Random Forest performed the best with an accuracy of 75.27%, 20.81% above baseline"
   ]
  },
  {
   "cell_type": "code",
   "execution_count": null,
   "id": "6763ed32",
   "metadata": {},
   "outputs": [],
   "source": []
  }
 ],
 "metadata": {
  "kernelspec": {
   "display_name": "Python 3 (ipykernel)",
   "language": "python",
   "name": "python3"
  },
  "language_info": {
   "codemirror_mode": {
    "name": "ipython",
    "version": 3
   },
   "file_extension": ".py",
   "mimetype": "text/x-python",
   "name": "python",
   "nbconvert_exporter": "python",
   "pygments_lexer": "ipython3",
   "version": "3.9.12"
  }
 },
 "nbformat": 4,
 "nbformat_minor": 5
}
