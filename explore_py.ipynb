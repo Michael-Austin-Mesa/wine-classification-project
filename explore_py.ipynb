{
 "cells": [
  {
   "cell_type": "code",
   "execution_count": 19,
   "id": "23d4eeaa",
   "metadata": {},
   "outputs": [],
   "source": [
    "import numpy as np\n",
    "import pandas as pd\n",
    "import seaborn as sns\n",
    "from scipy import stats"
   ]
  },
  {
   "cell_type": "code",
   "execution_count": 1,
   "id": "2a58ce82",
   "metadata": {},
   "outputs": [],
   "source": [
    "def get_countplot():\n",
    "    sns.countplot(x=train.quality)"
   ]
  },
  {
   "cell_type": "code",
   "execution_count": 2,
   "id": "2a809dcd",
   "metadata": {},
   "outputs": [],
   "source": [
    "def get_countplot_viable():\n",
    "    sns.countplot(x=train.is_viable)"
   ]
  },
  {
   "cell_type": "code",
   "execution_count": 3,
   "id": "73a9908b",
   "metadata": {},
   "outputs": [],
   "source": [
    "def get_volatile_boxplot():\n",
    "    sns.boxplot(data=train, x=train['quality'],y=train['volatile acidity'])"
   ]
  },
  {
   "cell_type": "code",
   "execution_count": 5,
   "id": "e65cef77",
   "metadata": {},
   "outputs": [],
   "source": [
    "def get_ttest_volatile(train):\n",
    "\n",
    "    viable_sample=train[train.is_viable==True]['volatile acidity']\n",
    "    not_viable_sample=train[train.is_viable==False]['volatile acidity']\n",
    "    overall_mean = train['volatile acidity'].mean()\n",
    "\n",
    "    t, p = stats.ttest_ind(not_viable_sample, viable_sample, equal_var=False)\n",
    "    print(f't     = {t:.4f}')\n",
    "    print(f'p     = {p:.4f}')"
   ]
  },
  {
   "cell_type": "code",
   "execution_count": 6,
   "id": "80149a34",
   "metadata": {},
   "outputs": [],
   "source": [
    "def get_citric_boxplot():\n",
    "    sns.boxplot(data=train, x=train['quality'],y=train['citric acid'])"
   ]
  },
  {
   "cell_type": "code",
   "execution_count": 7,
   "id": "17073aa0",
   "metadata": {},
   "outputs": [],
   "source": [
    "def get_ind_ttest_citric_acid(train):\n",
    "\n",
    "    viable_sample=train[train.is_viable==True]['citric acid']\n",
    "    not_viable_sample=train[train.is_viable==False]['citric acid']\n",
    "    overall_mean = train['citric acid'].mean()\n",
    "\n",
    "    t, p = stats.ttest_ind(not_viable_sample, viable_sample, equal_var=False)\n",
    "    print(f't     = {t:.4f}')\n",
    "    print(f'p     = {p:.4f}')"
   ]
  },
  {
   "cell_type": "code",
   "execution_count": 8,
   "id": "96655654",
   "metadata": {},
   "outputs": [],
   "source": [
    "def get_fixed_acid_boxplot():\n",
    "    sns.boxplot(data=train, x=train['quality'],y=train['fixed acidity'])"
   ]
  },
  {
   "cell_type": "code",
   "execution_count": 9,
   "id": "d8c7e50d",
   "metadata": {},
   "outputs": [],
   "source": [
    "def get_ind_ttest_fixed_acid(train):\n",
    "\n",
    "    viable_sample=train[train.is_viable==True]['fixed acidity']\n",
    "    not_viable_sample=train[train.is_viable==False]['fixed acidity']\n",
    "    overall_mean = train['fixed acidity'].mean()\n",
    "\n",
    "    t, p = stats.ttest_ind(not_viable_sample, viable_sample, equal_var=False)\n",
    "    print(f't     = {t:.4f}')\n",
    "    print(f'p     = {p:.4f}')"
   ]
  },
  {
   "cell_type": "code",
   "execution_count": 10,
   "id": "053c5a1a",
   "metadata": {},
   "outputs": [],
   "source": [
    "def get_pH_boxplot():\n",
    "    sns.boxplot(data=train, x=train['quality'],y=train['pH'])"
   ]
  },
  {
   "cell_type": "code",
   "execution_count": 11,
   "id": "a5fd78b1",
   "metadata": {},
   "outputs": [],
   "source": [
    "def get_ind_ttest_ph(train):\n",
    "\n",
    "    viable_sample=train[train.is_viable==True]['pH']\n",
    "    not_viable_sample=train[train.is_viable==False]['pH']\n",
    "    overall_mean = train['pH'].mean()\n",
    "\n",
    "    t, p = stats.ttest_ind(not_viable_sample, viable_sample, equal_var=False)\n",
    "    print(f't     = {t:.4f}')\n",
    "    print(f'p     = {p:.4f}')"
   ]
  },
  {
   "cell_type": "code",
   "execution_count": 12,
   "id": "285b6a87",
   "metadata": {},
   "outputs": [],
   "source": [
    "def get_sulphates_boxplot():\n",
    "    sns.boxplot(data=train, x=train['quality'],y=train['sulphates'])"
   ]
  },
  {
   "cell_type": "code",
   "execution_count": 13,
   "id": "648dcdff",
   "metadata": {},
   "outputs": [],
   "source": [
    "def get_ind_ttest_sulphates(train):\n",
    "\n",
    "    viable_sample=train[train.is_viable==True]['sulphates']\n",
    "    not_viable_sample=train[train.is_viable==False]['sulphates']\n",
    "    overall_mean = train['sulphates'].mean()\n",
    "\n",
    "    t, p = stats.ttest_ind(not_viable_sample, viable_sample, equal_var=False)\n",
    "    print(f't     = {t:.4f}')\n",
    "    print(f'p     = {p:.4f}')"
   ]
  },
  {
   "cell_type": "code",
   "execution_count": 14,
   "id": "905ab296",
   "metadata": {},
   "outputs": [],
   "source": [
    "def get_alcohol_boxplot():\n",
    "    sns.boxplot(data=train, x=train['quality'],y=train['alcohol'])"
   ]
  },
  {
   "cell_type": "code",
   "execution_count": 15,
   "id": "28e57e3a",
   "metadata": {},
   "outputs": [],
   "source": [
    "def get_ind_ttest_alcohol(train):\n",
    "\n",
    "    viable_sample=train[train.is_viable==True]['alcohol']\n",
    "    not_viable_sample=train[train.is_viable==False]['alcohol']\n",
    "    overall_mean = train['alcohol'].mean()\n",
    "\n",
    "    t, p = stats.ttest_ind(not_viable_sample, viable_sample, equal_var=False)\n",
    "    print(f't     = {t:.4f}')\n",
    "    print(f'p     = {p:.4f}')"
   ]
  },
  {
   "cell_type": "code",
   "execution_count": 16,
   "id": "58bfb441",
   "metadata": {},
   "outputs": [],
   "source": [
    "def get_residual_sugar_boxplot():\n",
    "    sns.boxplot(data=train, x=train['quality'],y=train['residual sugar'])"
   ]
  },
  {
   "cell_type": "code",
   "execution_count": 17,
   "id": "3adf2e2e",
   "metadata": {},
   "outputs": [],
   "source": [
    "def get_ind_ttest_residsugar(train):\n",
    "\n",
    "    viable_sample=train[train.is_viable==True]['residual sugar']\n",
    "    not_viable_sample=train[train.is_viable==False]['residual sugar']\n",
    "    overall_mean = train['residual sugar'].mean()\n",
    "\n",
    "    t, p = stats.ttest_ind(not_viable_sample, viable_sample, equal_var=False)\n",
    "    print(f't     = {t:.4f}')\n",
    "    print(f'p     = {p:.4f}')"
   ]
  },
  {
   "cell_type": "code",
   "execution_count": 18,
   "id": "338b28e2",
   "metadata": {},
   "outputs": [],
   "source": [
    "def get_ind_ttest_free_sulf_dio(train):\n",
    "\n",
    "    viable_sample=train[train.is_viable==True]['free sulfur dioxide']\n",
    "    not_viable_sample=train[train.is_viable==False]['free sulfur dioxide']\n",
    "    overall_mean = train['free sulfur dioxide'].mean()\n",
    "\n",
    "    t, p = stats.ttest_ind(not_viable_sample, viable_sample, equal_var=False)\n",
    "    print(f't     = {t:.4f}')\n",
    "    print(f'p     = {p:.4f}')"
   ]
  },
  {
   "cell_type": "code",
   "execution_count": null,
   "id": "c512eedc",
   "metadata": {},
   "outputs": [],
   "source": []
  }
 ],
 "metadata": {
  "kernelspec": {
   "display_name": "Python 3 (ipykernel)",
   "language": "python",
   "name": "python3"
  },
  "language_info": {
   "codemirror_mode": {
    "name": "ipython",
    "version": 3
   },
   "file_extension": ".py",
   "mimetype": "text/x-python",
   "name": "python",
   "nbconvert_exporter": "python",
   "pygments_lexer": "ipython3",
   "version": "3.9.12"
  }
 },
 "nbformat": 4,
 "nbformat_minor": 5
}
