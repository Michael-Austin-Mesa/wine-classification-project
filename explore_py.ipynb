{
 "cells": [
  {
   "cell_type": "code",
   "execution_count": 1,
   "id": "ed0aea1f",
   "metadata": {},
   "outputs": [],
   "source": [
    "def get_countplot():\n",
    "    sns.countplot(x=train.quality)"
   ]
  },
  {
   "cell_type": "code",
   "execution_count": 2,
   "id": "64e718aa",
   "metadata": {},
   "outputs": [],
   "source": [
    "def get_countplot_viable():\n",
    "    sns.countplot(x=train.is_viable)"
   ]
  },
  {
   "cell_type": "code",
   "execution_count": 3,
   "id": "5bcbbaf0",
   "metadata": {},
   "outputs": [],
   "source": [
    "def get_volatile_boxplot():\n",
    "    sns.boxplot(data=train, x=train['quality'],y=train['volatile acidity'])"
   ]
  },
  {
   "cell_type": "code",
   "execution_count": 5,
   "id": "07c5187d",
   "metadata": {},
   "outputs": [],
   "source": [
    "def get_ttest_volatile(train):\n",
    "\n",
    "    viable_sample=train[train.is_viable==True]['volatile acidity']\n",
    "    not_viable_sample=train[train.is_viable==False]['volatile acidity']\n",
    "    overall_mean = train['volatile acidity'].mean()\n",
    "\n",
    "    t, p = stats.ttest_ind(not_viable_sample, viable_sample, equal_var=False)\n",
    "    print(f't     = {t:.4f}')\n",
    "    print(f'p     = {p:.4f}')"
   ]
  },
  {
   "cell_type": "code",
   "execution_count": 6,
   "id": "52606047",
   "metadata": {},
   "outputs": [],
   "source": [
    "def get_citric_boxplot():\n",
    "    sns.boxplot(data=train, x=train['quality'],y=train['citric acid'])"
   ]
  },
  {
   "cell_type": "code",
   "execution_count": 7,
   "id": "101f1eaa",
   "metadata": {},
   "outputs": [],
   "source": [
    "def get_ind_ttest_citric_acid(train):\n",
    "\n",
    "    viable_sample=train[train.is_viable==True]['citric acid']\n",
    "    not_viable_sample=train[train.is_viable==False]['citric acid']\n",
    "    overall_mean = train['citric acid'].mean()\n",
    "\n",
    "    t, p = stats.ttest_ind(not_viable_sample, viable_sample, equal_var=False)\n",
    "    print(f't     = {t:.4f}')\n",
    "    print(f'p     = {p:.4f}')"
   ]
  },
  {
   "cell_type": "code",
   "execution_count": 8,
   "id": "93f42ae9",
   "metadata": {},
   "outputs": [],
   "source": [
    "def get_fixed_acid_boxplot():\n",
    "    sns.boxplot(data=train, x=train['quality'],y=train['fixed acidity'])"
   ]
  },
  {
   "cell_type": "code",
   "execution_count": null,
   "id": "57a946de",
   "metadata": {},
   "outputs": [],
   "source": []
  }
 ],
 "metadata": {
  "kernelspec": {
   "display_name": "Python 3 (ipykernel)",
   "language": "python",
   "name": "python3"
  },
  "language_info": {
   "codemirror_mode": {
    "name": "ipython",
    "version": 3
   },
   "file_extension": ".py",
   "mimetype": "text/x-python",
   "name": "python",
   "nbconvert_exporter": "python",
   "pygments_lexer": "ipython3",
   "version": "3.9.12"
  }
 },
 "nbformat": 4,
 "nbformat_minor": 5
}
