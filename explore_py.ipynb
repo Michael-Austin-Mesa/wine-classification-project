{
 "cells": [
  {
   "cell_type": "code",
   "execution_count": 1,
   "id": "4596a394",
   "metadata": {},
   "outputs": [],
   "source": [
    "def get_countplot():\n",
    "    sns.countplot(x=train.quality)"
   ]
  },
  {
   "cell_type": "code",
   "execution_count": 2,
   "id": "2525f9ea",
   "metadata": {},
   "outputs": [],
   "source": [
    "def get_countplot_viable():\n",
    "    sns.countplot(x=train.is_viable)"
   ]
  },
  {
   "cell_type": "code",
   "execution_count": 3,
   "id": "c8ee9dec",
   "metadata": {},
   "outputs": [],
   "source": [
    "def get_volatile_boxplot():\n",
    "    sns.boxplot(data=train, x=train['quality'],y=train['volatile acidity'])"
   ]
  },
  {
   "cell_type": "code",
   "execution_count": 5,
   "id": "8dfc4716",
   "metadata": {},
   "outputs": [],
   "source": [
    "def get_ttest_volatile(train):\n",
    "\n",
    "    viable_sample=train[train.is_viable==True]['volatile acidity']\n",
    "    not_viable_sample=train[train.is_viable==False]['volatile acidity']\n",
    "    overall_mean = train['volatile acidity'].mean()\n",
    "\n",
    "    t, p = stats.ttest_ind(not_viable_sample, viable_sample, equal_var=False)\n",
    "    print(f't     = {t:.4f}')\n",
    "    print(f'p     = {p:.4f}')"
   ]
  },
  {
   "cell_type": "code",
   "execution_count": 6,
   "id": "eed9ff43",
   "metadata": {},
   "outputs": [],
   "source": [
    "def get_citric_boxplot():\n",
    "    sns.boxplot(data=train, x=train['quality'],y=train['citric acid'])"
   ]
  },
  {
   "cell_type": "code",
   "execution_count": null,
   "id": "0d2ae0d8",
   "metadata": {},
   "outputs": [],
   "source": []
  }
 ],
 "metadata": {
  "kernelspec": {
   "display_name": "Python 3 (ipykernel)",
   "language": "python",
   "name": "python3"
  },
  "language_info": {
   "codemirror_mode": {
    "name": "ipython",
    "version": 3
   },
   "file_extension": ".py",
   "mimetype": "text/x-python",
   "name": "python",
   "nbconvert_exporter": "python",
   "pygments_lexer": "ipython3",
   "version": "3.9.12"
  }
 },
 "nbformat": 4,
 "nbformat_minor": 5
}
