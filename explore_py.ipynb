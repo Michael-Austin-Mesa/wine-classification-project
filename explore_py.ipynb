{
 "cells": [
  {
   "cell_type": "code",
   "execution_count": 1,
   "id": "6ace9683",
   "metadata": {},
   "outputs": [],
   "source": [
    "def get_countplot():\n",
    "    sns.countplot(x=train.quality)"
   ]
  },
  {
   "cell_type": "code",
   "execution_count": 2,
   "id": "5e713a2a",
   "metadata": {},
   "outputs": [],
   "source": [
    "def get_countplot_viable():\n",
    "    sns.countplot(x=train.is_viable)"
   ]
  },
  {
   "cell_type": "code",
   "execution_count": 3,
   "id": "6f369800",
   "metadata": {},
   "outputs": [],
   "source": [
    "def get_volatile_boxplot():\n",
    "    sns.boxplot(data=train, x=train['quality'],y=train['volatile acidity'])"
   ]
  },
  {
   "cell_type": "code",
   "execution_count": 5,
   "id": "51326113",
   "metadata": {},
   "outputs": [],
   "source": [
    "def get_ttest_volatile(train):\n",
    "\n",
    "    viable_sample=train[train.is_viable==True]['volatile acidity']\n",
    "    not_viable_sample=train[train.is_viable==False]['volatile acidity']\n",
    "    overall_mean = train['volatile acidity'].mean()\n",
    "\n",
    "    t, p = stats.ttest_ind(not_viable_sample, viable_sample, equal_var=False)\n",
    "    print(f't     = {t:.4f}')\n",
    "    print(f'p     = {p:.4f}')"
   ]
  },
  {
   "cell_type": "code",
   "execution_count": 6,
   "id": "9006c608",
   "metadata": {},
   "outputs": [],
   "source": [
    "def get_citric_boxplot():\n",
    "    sns.boxplot(data=train, x=train['quality'],y=train['citric acid'])"
   ]
  },
  {
   "cell_type": "code",
   "execution_count": 7,
   "id": "60c28208",
   "metadata": {},
   "outputs": [],
   "source": [
    "def get_ind_ttest_citric_acid(train):\n",
    "\n",
    "    viable_sample=train[train.is_viable==True]['citric acid']\n",
    "    not_viable_sample=train[train.is_viable==False]['citric acid']\n",
    "    overall_mean = train['citric acid'].mean()\n",
    "\n",
    "    t, p = stats.ttest_ind(not_viable_sample, viable_sample, equal_var=False)\n",
    "    print(f't     = {t:.4f}')\n",
    "    print(f'p     = {p:.4f}')"
   ]
  },
  {
   "cell_type": "code",
   "execution_count": 8,
   "id": "e4c7d1cf",
   "metadata": {},
   "outputs": [],
   "source": [
    "def get_fixed_acid_boxplot():\n",
    "    sns.boxplot(data=train, x=train['quality'],y=train['fixed acidity'])"
   ]
  },
  {
   "cell_type": "code",
   "execution_count": 9,
   "id": "2339c770",
   "metadata": {},
   "outputs": [],
   "source": [
    "def get_ind_ttest_fixed_acid(train):\n",
    "\n",
    "    viable_sample=train[train.is_viable==True]['fixed acidity']\n",
    "    not_viable_sample=train[train.is_viable==False]['fixed acidity']\n",
    "    overall_mean = train['fixed acidity'].mean()\n",
    "\n",
    "    t, p = stats.ttest_ind(not_viable_sample, viable_sample, equal_var=False)\n",
    "    print(f't     = {t:.4f}')\n",
    "    print(f'p     = {p:.4f}')"
   ]
  },
  {
   "cell_type": "code",
   "execution_count": 10,
   "id": "374f1bf6",
   "metadata": {},
   "outputs": [],
   "source": [
    "def get_pH_boxplot():\n",
    "    sns.boxplot(data=train, x=train['quality'],y=train['pH'])"
   ]
  },
  {
   "cell_type": "code",
   "execution_count": 11,
   "id": "15630cca",
   "metadata": {},
   "outputs": [],
   "source": [
    "def get_ind_ttest_ph(train):\n",
    "\n",
    "    viable_sample=train[train.is_viable==True]['pH']\n",
    "    not_viable_sample=train[train.is_viable==False]['pH']\n",
    "    overall_mean = train['pH'].mean()\n",
    "\n",
    "    t, p = stats.ttest_ind(not_viable_sample, viable_sample, equal_var=False)\n",
    "    print(f't     = {t:.4f}')\n",
    "    print(f'p     = {p:.4f}')"
   ]
  },
  {
   "cell_type": "code",
   "execution_count": 12,
   "id": "1fe484ba",
   "metadata": {},
   "outputs": [],
   "source": [
    "def get_sulphates_boxplot():\n",
    "    sns.boxplot(data=train, x=train['quality'],y=train['sulphates'])"
   ]
  },
  {
   "cell_type": "code",
   "execution_count": 13,
   "id": "a8d8e811",
   "metadata": {},
   "outputs": [],
   "source": [
    "def get_ind_ttest_sulphates(train):\n",
    "\n",
    "    viable_sample=train[train.is_viable==True]['sulphates']\n",
    "    not_viable_sample=train[train.is_viable==False]['sulphates']\n",
    "    overall_mean = train['sulphates'].mean()\n",
    "\n",
    "    t, p = stats.ttest_ind(not_viable_sample, viable_sample, equal_var=False)\n",
    "    print(f't     = {t:.4f}')\n",
    "    print(f'p     = {p:.4f}')"
   ]
  },
  {
   "cell_type": "code",
   "execution_count": 14,
   "id": "bfeeb378",
   "metadata": {},
   "outputs": [],
   "source": [
    "def get_alcohol_boxplot():\n",
    "    sns.boxplot(data=train, x=train['quality'],y=train['alcohol'])"
   ]
  },
  {
   "cell_type": "code",
   "execution_count": 15,
   "id": "22cce735",
   "metadata": {},
   "outputs": [],
   "source": [
    "def get_ind_ttest_alcohol(train):\n",
    "\n",
    "    viable_sample=train[train.is_viable==True]['alcohol']\n",
    "    not_viable_sample=train[train.is_viable==False]['alcohol']\n",
    "    overall_mean = train['alcohol'].mean()\n",
    "\n",
    "    t, p = stats.ttest_ind(not_viable_sample, viable_sample, equal_var=False)\n",
    "    print(f't     = {t:.4f}')\n",
    "    print(f'p     = {p:.4f}')"
   ]
  },
  {
   "cell_type": "code",
   "execution_count": 16,
   "id": "5e7844dc",
   "metadata": {},
   "outputs": [],
   "source": [
    "def get_residual_sugar_boxplot():\n",
    "    sns.boxplot(data=train, x=train['quality'],y=train['residual sugar'])"
   ]
  },
  {
   "cell_type": "code",
   "execution_count": 17,
   "id": "39c31441",
   "metadata": {},
   "outputs": [],
   "source": [
    "def get_ind_ttest_residsugar(train):\n",
    "\n",
    "    viable_sample=train[train.is_viable==True]['residual sugar']\n",
    "    not_viable_sample=train[train.is_viable==False]['residual sugar']\n",
    "    overall_mean = train['residual sugar'].mean()\n",
    "\n",
    "    t, p = stats.ttest_ind(not_viable_sample, viable_sample, equal_var=False)\n",
    "    print(f't     = {t:.4f}')\n",
    "    print(f'p     = {p:.4f}')"
   ]
  },
  {
   "cell_type": "code",
   "execution_count": null,
   "id": "d85a118f",
   "metadata": {},
   "outputs": [],
   "source": []
  }
 ],
 "metadata": {
  "kernelspec": {
   "display_name": "Python 3 (ipykernel)",
   "language": "python",
   "name": "python3"
  },
  "language_info": {
   "codemirror_mode": {
    "name": "ipython",
    "version": 3
   },
   "file_extension": ".py",
   "mimetype": "text/x-python",
   "name": "python",
   "nbconvert_exporter": "python",
   "pygments_lexer": "ipython3",
   "version": "3.9.12"
  }
 },
 "nbformat": 4,
 "nbformat_minor": 5
}
