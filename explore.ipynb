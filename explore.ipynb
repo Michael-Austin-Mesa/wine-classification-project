{
 "cells": [
  {
   "cell_type": "code",
   "execution_count": 1,
   "id": "6c6b06ee",
   "metadata": {},
   "outputs": [],
   "source": [
    "import numpy as np\n",
    "import pandas as pd\n",
    "import seaborn as sns\n",
    "import math\n",
    "import matplotlib.pyplot as plt\n",
    "\n",
    "#import wrangle as w\n",
    "#import explore as e\n",
    "#import env\n",
    "from scipy import stats\n",
    "\n",
    "from sklearn.model_selection import train_test_split\n",
    "from sklearn.feature_selection import SelectKBest, RFE, f_regression, SequentialFeatureSelector\n",
    "from sklearn.linear_model import LinearRegression, LassoLars, TweedieRegressor\n",
    "from sklearn.metrics import mean_squared_error\n",
    "from sklearn.preprocessing import MinMaxScaler, StandardScaler, RobustScaler, QuantileTransformer, PolynomialFeatures\n",
    "\n",
    "import warnings\n",
    "warnings.filterwarnings(\"ignore\")"
   ]
  },
  {
   "cell_type": "markdown",
   "id": "e7510115",
   "metadata": {},
   "source": [
    "## For all our statistical analysis, I will use a confidence of 95% so our alpha = 0.05\n",
    "## results with a p-value less than alpha will be considered significant"
   ]
  },
  {
   "cell_type": "markdown",
   "id": "ab21ec44",
   "metadata": {},
   "source": [
    "## features to move forward:\n",
    "### volatile acidity, citric acid, fixed acidity***, sulphates, alcohol, free sulphur dioxide"
   ]
  },
  {
   "cell_type": "code",
   "execution_count": 2,
   "id": "c8a1fcab",
   "metadata": {},
   "outputs": [],
   "source": [
    "def split_wine(df):\n",
    "    '''\n",
    "    This function performs split on WineQT data, stratify quality.\n",
    "    Returns train, validate, and test dfs.\n",
    "    '''\n",
    "    train_validate, test = train_test_split(df, test_size=.2, \n",
    "                                        random_state=123, \n",
    "                                        stratify=df.quality)\n",
    "    train, validate = train_test_split(train_validate, test_size=.3, \n",
    "                                   random_state=123, \n",
    "                                   stratify=train_validate.quality)\n",
    "    return train, validate, test"
   ]
  },
  {
   "cell_type": "code",
   "execution_count": 3,
   "id": "267624ce",
   "metadata": {},
   "outputs": [
    {
     "data": {
      "text/html": [
       "<div>\n",
       "<style scoped>\n",
       "    .dataframe tbody tr th:only-of-type {\n",
       "        vertical-align: middle;\n",
       "    }\n",
       "\n",
       "    .dataframe tbody tr th {\n",
       "        vertical-align: top;\n",
       "    }\n",
       "\n",
       "    .dataframe thead th {\n",
       "        text-align: right;\n",
       "    }\n",
       "</style>\n",
       "<table border=\"1\" class=\"dataframe\">\n",
       "  <thead>\n",
       "    <tr style=\"text-align: right;\">\n",
       "      <th></th>\n",
       "      <th>Unnamed: 0</th>\n",
       "      <th>fixed acidity</th>\n",
       "      <th>volatile acidity</th>\n",
       "      <th>citric acid</th>\n",
       "      <th>residual sugar</th>\n",
       "      <th>chlorides</th>\n",
       "      <th>free sulfur dioxide</th>\n",
       "      <th>total sulfur dioxide</th>\n",
       "      <th>density</th>\n",
       "      <th>pH</th>\n",
       "      <th>sulphates</th>\n",
       "      <th>alcohol</th>\n",
       "      <th>quality</th>\n",
       "      <th>Id</th>\n",
       "      <th>is_viable</th>\n",
       "    </tr>\n",
       "  </thead>\n",
       "  <tbody>\n",
       "    <tr>\n",
       "      <th>0</th>\n",
       "      <td>0</td>\n",
       "      <td>7.4</td>\n",
       "      <td>0.700</td>\n",
       "      <td>0.00</td>\n",
       "      <td>1.9</td>\n",
       "      <td>0.076</td>\n",
       "      <td>11.0</td>\n",
       "      <td>34.0</td>\n",
       "      <td>0.99780</td>\n",
       "      <td>3.51</td>\n",
       "      <td>0.56</td>\n",
       "      <td>9.4</td>\n",
       "      <td>5</td>\n",
       "      <td>0</td>\n",
       "      <td>False</td>\n",
       "    </tr>\n",
       "    <tr>\n",
       "      <th>1</th>\n",
       "      <td>1</td>\n",
       "      <td>7.8</td>\n",
       "      <td>0.880</td>\n",
       "      <td>0.00</td>\n",
       "      <td>2.6</td>\n",
       "      <td>0.098</td>\n",
       "      <td>25.0</td>\n",
       "      <td>67.0</td>\n",
       "      <td>0.99680</td>\n",
       "      <td>3.20</td>\n",
       "      <td>0.68</td>\n",
       "      <td>9.8</td>\n",
       "      <td>5</td>\n",
       "      <td>1</td>\n",
       "      <td>False</td>\n",
       "    </tr>\n",
       "    <tr>\n",
       "      <th>2</th>\n",
       "      <td>2</td>\n",
       "      <td>7.8</td>\n",
       "      <td>0.760</td>\n",
       "      <td>0.04</td>\n",
       "      <td>2.3</td>\n",
       "      <td>0.092</td>\n",
       "      <td>15.0</td>\n",
       "      <td>54.0</td>\n",
       "      <td>0.99700</td>\n",
       "      <td>3.26</td>\n",
       "      <td>0.65</td>\n",
       "      <td>9.8</td>\n",
       "      <td>5</td>\n",
       "      <td>2</td>\n",
       "      <td>False</td>\n",
       "    </tr>\n",
       "    <tr>\n",
       "      <th>3</th>\n",
       "      <td>3</td>\n",
       "      <td>11.2</td>\n",
       "      <td>0.280</td>\n",
       "      <td>0.56</td>\n",
       "      <td>1.9</td>\n",
       "      <td>0.075</td>\n",
       "      <td>17.0</td>\n",
       "      <td>60.0</td>\n",
       "      <td>0.99800</td>\n",
       "      <td>3.16</td>\n",
       "      <td>0.58</td>\n",
       "      <td>9.8</td>\n",
       "      <td>6</td>\n",
       "      <td>3</td>\n",
       "      <td>True</td>\n",
       "    </tr>\n",
       "    <tr>\n",
       "      <th>4</th>\n",
       "      <td>4</td>\n",
       "      <td>7.4</td>\n",
       "      <td>0.700</td>\n",
       "      <td>0.00</td>\n",
       "      <td>1.9</td>\n",
       "      <td>0.076</td>\n",
       "      <td>11.0</td>\n",
       "      <td>34.0</td>\n",
       "      <td>0.99780</td>\n",
       "      <td>3.51</td>\n",
       "      <td>0.56</td>\n",
       "      <td>9.4</td>\n",
       "      <td>5</td>\n",
       "      <td>4</td>\n",
       "      <td>False</td>\n",
       "    </tr>\n",
       "    <tr>\n",
       "      <th>...</th>\n",
       "      <td>...</td>\n",
       "      <td>...</td>\n",
       "      <td>...</td>\n",
       "      <td>...</td>\n",
       "      <td>...</td>\n",
       "      <td>...</td>\n",
       "      <td>...</td>\n",
       "      <td>...</td>\n",
       "      <td>...</td>\n",
       "      <td>...</td>\n",
       "      <td>...</td>\n",
       "      <td>...</td>\n",
       "      <td>...</td>\n",
       "      <td>...</td>\n",
       "      <td>...</td>\n",
       "    </tr>\n",
       "    <tr>\n",
       "      <th>1138</th>\n",
       "      <td>1138</td>\n",
       "      <td>6.3</td>\n",
       "      <td>0.510</td>\n",
       "      <td>0.13</td>\n",
       "      <td>2.3</td>\n",
       "      <td>0.076</td>\n",
       "      <td>29.0</td>\n",
       "      <td>40.0</td>\n",
       "      <td>0.99574</td>\n",
       "      <td>3.42</td>\n",
       "      <td>0.75</td>\n",
       "      <td>11.0</td>\n",
       "      <td>6</td>\n",
       "      <td>1592</td>\n",
       "      <td>True</td>\n",
       "    </tr>\n",
       "    <tr>\n",
       "      <th>1139</th>\n",
       "      <td>1139</td>\n",
       "      <td>6.8</td>\n",
       "      <td>0.620</td>\n",
       "      <td>0.08</td>\n",
       "      <td>1.9</td>\n",
       "      <td>0.068</td>\n",
       "      <td>28.0</td>\n",
       "      <td>38.0</td>\n",
       "      <td>0.99651</td>\n",
       "      <td>3.42</td>\n",
       "      <td>0.82</td>\n",
       "      <td>9.5</td>\n",
       "      <td>6</td>\n",
       "      <td>1593</td>\n",
       "      <td>True</td>\n",
       "    </tr>\n",
       "    <tr>\n",
       "      <th>1140</th>\n",
       "      <td>1140</td>\n",
       "      <td>6.2</td>\n",
       "      <td>0.600</td>\n",
       "      <td>0.08</td>\n",
       "      <td>2.0</td>\n",
       "      <td>0.090</td>\n",
       "      <td>32.0</td>\n",
       "      <td>44.0</td>\n",
       "      <td>0.99490</td>\n",
       "      <td>3.45</td>\n",
       "      <td>0.58</td>\n",
       "      <td>10.5</td>\n",
       "      <td>5</td>\n",
       "      <td>1594</td>\n",
       "      <td>False</td>\n",
       "    </tr>\n",
       "    <tr>\n",
       "      <th>1141</th>\n",
       "      <td>1141</td>\n",
       "      <td>5.9</td>\n",
       "      <td>0.550</td>\n",
       "      <td>0.10</td>\n",
       "      <td>2.2</td>\n",
       "      <td>0.062</td>\n",
       "      <td>39.0</td>\n",
       "      <td>51.0</td>\n",
       "      <td>0.99512</td>\n",
       "      <td>3.52</td>\n",
       "      <td>0.76</td>\n",
       "      <td>11.2</td>\n",
       "      <td>6</td>\n",
       "      <td>1595</td>\n",
       "      <td>True</td>\n",
       "    </tr>\n",
       "    <tr>\n",
       "      <th>1142</th>\n",
       "      <td>1142</td>\n",
       "      <td>5.9</td>\n",
       "      <td>0.645</td>\n",
       "      <td>0.12</td>\n",
       "      <td>2.0</td>\n",
       "      <td>0.075</td>\n",
       "      <td>32.0</td>\n",
       "      <td>44.0</td>\n",
       "      <td>0.99547</td>\n",
       "      <td>3.57</td>\n",
       "      <td>0.71</td>\n",
       "      <td>10.2</td>\n",
       "      <td>5</td>\n",
       "      <td>1597</td>\n",
       "      <td>False</td>\n",
       "    </tr>\n",
       "  </tbody>\n",
       "</table>\n",
       "<p>1143 rows × 15 columns</p>\n",
       "</div>"
      ],
      "text/plain": [
       "      Unnamed: 0  fixed acidity  volatile acidity  citric acid  \\\n",
       "0              0            7.4             0.700         0.00   \n",
       "1              1            7.8             0.880         0.00   \n",
       "2              2            7.8             0.760         0.04   \n",
       "3              3           11.2             0.280         0.56   \n",
       "4              4            7.4             0.700         0.00   \n",
       "...          ...            ...               ...          ...   \n",
       "1138        1138            6.3             0.510         0.13   \n",
       "1139        1139            6.8             0.620         0.08   \n",
       "1140        1140            6.2             0.600         0.08   \n",
       "1141        1141            5.9             0.550         0.10   \n",
       "1142        1142            5.9             0.645         0.12   \n",
       "\n",
       "      residual sugar  chlorides  free sulfur dioxide  total sulfur dioxide  \\\n",
       "0                1.9      0.076                 11.0                  34.0   \n",
       "1                2.6      0.098                 25.0                  67.0   \n",
       "2                2.3      0.092                 15.0                  54.0   \n",
       "3                1.9      0.075                 17.0                  60.0   \n",
       "4                1.9      0.076                 11.0                  34.0   \n",
       "...              ...        ...                  ...                   ...   \n",
       "1138             2.3      0.076                 29.0                  40.0   \n",
       "1139             1.9      0.068                 28.0                  38.0   \n",
       "1140             2.0      0.090                 32.0                  44.0   \n",
       "1141             2.2      0.062                 39.0                  51.0   \n",
       "1142             2.0      0.075                 32.0                  44.0   \n",
       "\n",
       "      density    pH  sulphates  alcohol  quality    Id  is_viable  \n",
       "0     0.99780  3.51       0.56      9.4        5     0      False  \n",
       "1     0.99680  3.20       0.68      9.8        5     1      False  \n",
       "2     0.99700  3.26       0.65      9.8        5     2      False  \n",
       "3     0.99800  3.16       0.58      9.8        6     3       True  \n",
       "4     0.99780  3.51       0.56      9.4        5     4      False  \n",
       "...       ...   ...        ...      ...      ...   ...        ...  \n",
       "1138  0.99574  3.42       0.75     11.0        6  1592       True  \n",
       "1139  0.99651  3.42       0.82      9.5        6  1593       True  \n",
       "1140  0.99490  3.45       0.58     10.5        5  1594      False  \n",
       "1141  0.99512  3.52       0.76     11.2        6  1595       True  \n",
       "1142  0.99547  3.57       0.71     10.2        5  1597      False  \n",
       "\n",
       "[1143 rows x 15 columns]"
      ]
     },
     "execution_count": 3,
     "metadata": {},
     "output_type": "execute_result"
    }
   ],
   "source": [
    "pd.read_csv('Wine_Viable.csv')"
   ]
  },
  {
   "cell_type": "code",
   "execution_count": 4,
   "id": "8b481902",
   "metadata": {},
   "outputs": [],
   "source": [
    "df = pd.read_csv('Wine_Viable.csv')"
   ]
  },
  {
   "cell_type": "code",
   "execution_count": 5,
   "id": "98a85e26",
   "metadata": {},
   "outputs": [],
   "source": [
    "train, validate, test = split_wine(df)"
   ]
  },
  {
   "cell_type": "code",
   "execution_count": 6,
   "id": "a5f15e80",
   "metadata": {},
   "outputs": [
    {
     "data": {
      "text/html": [
       "<div>\n",
       "<style scoped>\n",
       "    .dataframe tbody tr th:only-of-type {\n",
       "        vertical-align: middle;\n",
       "    }\n",
       "\n",
       "    .dataframe tbody tr th {\n",
       "        vertical-align: top;\n",
       "    }\n",
       "\n",
       "    .dataframe thead th {\n",
       "        text-align: right;\n",
       "    }\n",
       "</style>\n",
       "<table border=\"1\" class=\"dataframe\">\n",
       "  <thead>\n",
       "    <tr style=\"text-align: right;\">\n",
       "      <th></th>\n",
       "      <th>Unnamed: 0</th>\n",
       "      <th>fixed acidity</th>\n",
       "      <th>volatile acidity</th>\n",
       "      <th>citric acid</th>\n",
       "      <th>residual sugar</th>\n",
       "      <th>chlorides</th>\n",
       "      <th>free sulfur dioxide</th>\n",
       "      <th>total sulfur dioxide</th>\n",
       "      <th>density</th>\n",
       "      <th>pH</th>\n",
       "      <th>sulphates</th>\n",
       "      <th>alcohol</th>\n",
       "      <th>quality</th>\n",
       "      <th>Id</th>\n",
       "      <th>is_viable</th>\n",
       "    </tr>\n",
       "  </thead>\n",
       "  <tbody>\n",
       "    <tr>\n",
       "      <th>240</th>\n",
       "      <td>240</td>\n",
       "      <td>12.5</td>\n",
       "      <td>0.280</td>\n",
       "      <td>0.54</td>\n",
       "      <td>2.3</td>\n",
       "      <td>0.082</td>\n",
       "      <td>12.0</td>\n",
       "      <td>29.0</td>\n",
       "      <td>0.99970</td>\n",
       "      <td>3.11</td>\n",
       "      <td>1.36</td>\n",
       "      <td>9.800000</td>\n",
       "      <td>7</td>\n",
       "      <td>339</td>\n",
       "      <td>True</td>\n",
       "    </tr>\n",
       "    <tr>\n",
       "      <th>818</th>\n",
       "      <td>818</td>\n",
       "      <td>9.6</td>\n",
       "      <td>0.420</td>\n",
       "      <td>0.35</td>\n",
       "      <td>2.1</td>\n",
       "      <td>0.083</td>\n",
       "      <td>17.0</td>\n",
       "      <td>38.0</td>\n",
       "      <td>0.99622</td>\n",
       "      <td>3.23</td>\n",
       "      <td>0.66</td>\n",
       "      <td>11.100000</td>\n",
       "      <td>6</td>\n",
       "      <td>1153</td>\n",
       "      <td>True</td>\n",
       "    </tr>\n",
       "    <tr>\n",
       "      <th>1026</th>\n",
       "      <td>1026</td>\n",
       "      <td>7.3</td>\n",
       "      <td>0.670</td>\n",
       "      <td>0.02</td>\n",
       "      <td>2.2</td>\n",
       "      <td>0.072</td>\n",
       "      <td>31.0</td>\n",
       "      <td>92.0</td>\n",
       "      <td>0.99566</td>\n",
       "      <td>3.32</td>\n",
       "      <td>0.68</td>\n",
       "      <td>11.066667</td>\n",
       "      <td>6</td>\n",
       "      <td>1439</td>\n",
       "      <td>True</td>\n",
       "    </tr>\n",
       "    <tr>\n",
       "      <th>692</th>\n",
       "      <td>692</td>\n",
       "      <td>7.4</td>\n",
       "      <td>0.580</td>\n",
       "      <td>0.00</td>\n",
       "      <td>2.0</td>\n",
       "      <td>0.064</td>\n",
       "      <td>7.0</td>\n",
       "      <td>11.0</td>\n",
       "      <td>0.99562</td>\n",
       "      <td>3.45</td>\n",
       "      <td>0.58</td>\n",
       "      <td>11.300000</td>\n",
       "      <td>6</td>\n",
       "      <td>985</td>\n",
       "      <td>True</td>\n",
       "    </tr>\n",
       "    <tr>\n",
       "      <th>159</th>\n",
       "      <td>159</td>\n",
       "      <td>8.6</td>\n",
       "      <td>0.645</td>\n",
       "      <td>0.25</td>\n",
       "      <td>2.0</td>\n",
       "      <td>0.083</td>\n",
       "      <td>8.0</td>\n",
       "      <td>28.0</td>\n",
       "      <td>0.99815</td>\n",
       "      <td>3.28</td>\n",
       "      <td>0.60</td>\n",
       "      <td>10.000000</td>\n",
       "      <td>6</td>\n",
       "      <td>223</td>\n",
       "      <td>True</td>\n",
       "    </tr>\n",
       "    <tr>\n",
       "      <th>...</th>\n",
       "      <td>...</td>\n",
       "      <td>...</td>\n",
       "      <td>...</td>\n",
       "      <td>...</td>\n",
       "      <td>...</td>\n",
       "      <td>...</td>\n",
       "      <td>...</td>\n",
       "      <td>...</td>\n",
       "      <td>...</td>\n",
       "      <td>...</td>\n",
       "      <td>...</td>\n",
       "      <td>...</td>\n",
       "      <td>...</td>\n",
       "      <td>...</td>\n",
       "      <td>...</td>\n",
       "    </tr>\n",
       "    <tr>\n",
       "      <th>1011</th>\n",
       "      <td>1011</td>\n",
       "      <td>7.7</td>\n",
       "      <td>0.640</td>\n",
       "      <td>0.21</td>\n",
       "      <td>2.2</td>\n",
       "      <td>0.077</td>\n",
       "      <td>32.0</td>\n",
       "      <td>133.0</td>\n",
       "      <td>0.99560</td>\n",
       "      <td>3.27</td>\n",
       "      <td>0.45</td>\n",
       "      <td>9.900000</td>\n",
       "      <td>5</td>\n",
       "      <td>1419</td>\n",
       "      <td>False</td>\n",
       "    </tr>\n",
       "    <tr>\n",
       "      <th>783</th>\n",
       "      <td>783</td>\n",
       "      <td>10.8</td>\n",
       "      <td>0.470</td>\n",
       "      <td>0.43</td>\n",
       "      <td>2.1</td>\n",
       "      <td>0.171</td>\n",
       "      <td>27.0</td>\n",
       "      <td>66.0</td>\n",
       "      <td>0.99820</td>\n",
       "      <td>3.17</td>\n",
       "      <td>0.76</td>\n",
       "      <td>10.800000</td>\n",
       "      <td>6</td>\n",
       "      <td>1109</td>\n",
       "      <td>True</td>\n",
       "    </tr>\n",
       "    <tr>\n",
       "      <th>558</th>\n",
       "      <td>558</td>\n",
       "      <td>8.3</td>\n",
       "      <td>0.430</td>\n",
       "      <td>0.30</td>\n",
       "      <td>3.4</td>\n",
       "      <td>0.079</td>\n",
       "      <td>7.0</td>\n",
       "      <td>34.0</td>\n",
       "      <td>0.99788</td>\n",
       "      <td>3.36</td>\n",
       "      <td>0.61</td>\n",
       "      <td>10.500000</td>\n",
       "      <td>5</td>\n",
       "      <td>778</td>\n",
       "      <td>False</td>\n",
       "    </tr>\n",
       "    <tr>\n",
       "      <th>976</th>\n",
       "      <td>976</td>\n",
       "      <td>8.2</td>\n",
       "      <td>0.885</td>\n",
       "      <td>0.20</td>\n",
       "      <td>1.4</td>\n",
       "      <td>0.086</td>\n",
       "      <td>7.0</td>\n",
       "      <td>31.0</td>\n",
       "      <td>0.99460</td>\n",
       "      <td>3.11</td>\n",
       "      <td>0.46</td>\n",
       "      <td>10.000000</td>\n",
       "      <td>5</td>\n",
       "      <td>1376</td>\n",
       "      <td>False</td>\n",
       "    </tr>\n",
       "    <tr>\n",
       "      <th>120</th>\n",
       "      <td>120</td>\n",
       "      <td>7.9</td>\n",
       "      <td>0.885</td>\n",
       "      <td>0.03</td>\n",
       "      <td>1.8</td>\n",
       "      <td>0.058</td>\n",
       "      <td>4.0</td>\n",
       "      <td>8.0</td>\n",
       "      <td>0.99720</td>\n",
       "      <td>3.36</td>\n",
       "      <td>0.33</td>\n",
       "      <td>9.100000</td>\n",
       "      <td>4</td>\n",
       "      <td>170</td>\n",
       "      <td>False</td>\n",
       "    </tr>\n",
       "  </tbody>\n",
       "</table>\n",
       "<p>639 rows × 15 columns</p>\n",
       "</div>"
      ],
      "text/plain": [
       "      Unnamed: 0  fixed acidity  volatile acidity  citric acid  \\\n",
       "240          240           12.5             0.280         0.54   \n",
       "818          818            9.6             0.420         0.35   \n",
       "1026        1026            7.3             0.670         0.02   \n",
       "692          692            7.4             0.580         0.00   \n",
       "159          159            8.6             0.645         0.25   \n",
       "...          ...            ...               ...          ...   \n",
       "1011        1011            7.7             0.640         0.21   \n",
       "783          783           10.8             0.470         0.43   \n",
       "558          558            8.3             0.430         0.30   \n",
       "976          976            8.2             0.885         0.20   \n",
       "120          120            7.9             0.885         0.03   \n",
       "\n",
       "      residual sugar  chlorides  free sulfur dioxide  total sulfur dioxide  \\\n",
       "240              2.3      0.082                 12.0                  29.0   \n",
       "818              2.1      0.083                 17.0                  38.0   \n",
       "1026             2.2      0.072                 31.0                  92.0   \n",
       "692              2.0      0.064                  7.0                  11.0   \n",
       "159              2.0      0.083                  8.0                  28.0   \n",
       "...              ...        ...                  ...                   ...   \n",
       "1011             2.2      0.077                 32.0                 133.0   \n",
       "783              2.1      0.171                 27.0                  66.0   \n",
       "558              3.4      0.079                  7.0                  34.0   \n",
       "976              1.4      0.086                  7.0                  31.0   \n",
       "120              1.8      0.058                  4.0                   8.0   \n",
       "\n",
       "      density    pH  sulphates    alcohol  quality    Id  is_viable  \n",
       "240   0.99970  3.11       1.36   9.800000        7   339       True  \n",
       "818   0.99622  3.23       0.66  11.100000        6  1153       True  \n",
       "1026  0.99566  3.32       0.68  11.066667        6  1439       True  \n",
       "692   0.99562  3.45       0.58  11.300000        6   985       True  \n",
       "159   0.99815  3.28       0.60  10.000000        6   223       True  \n",
       "...       ...   ...        ...        ...      ...   ...        ...  \n",
       "1011  0.99560  3.27       0.45   9.900000        5  1419      False  \n",
       "783   0.99820  3.17       0.76  10.800000        6  1109       True  \n",
       "558   0.99788  3.36       0.61  10.500000        5   778      False  \n",
       "976   0.99460  3.11       0.46  10.000000        5  1376      False  \n",
       "120   0.99720  3.36       0.33   9.100000        4   170      False  \n",
       "\n",
       "[639 rows x 15 columns]"
      ]
     },
     "execution_count": 6,
     "metadata": {},
     "output_type": "execute_result"
    }
   ],
   "source": [
    "train"
   ]
  },
  {
   "cell_type": "code",
   "execution_count": 7,
   "id": "2d0252fb",
   "metadata": {
    "scrolled": true
   },
   "outputs": [
    {
     "data": {
      "text/plain": [
       "5    270\n",
       "6    259\n",
       "7     80\n",
       "4     18\n",
       "8      9\n",
       "3      3\n",
       "Name: quality, dtype: int64"
      ]
     },
     "execution_count": 7,
     "metadata": {},
     "output_type": "execute_result"
    }
   ],
   "source": [
    "train.quality.value_counts()"
   ]
  },
  {
   "cell_type": "code",
   "execution_count": 8,
   "id": "075e4eaf",
   "metadata": {},
   "outputs": [
    {
     "data": {
      "text/plain": [
       "639"
      ]
     },
     "execution_count": 8,
     "metadata": {},
     "output_type": "execute_result"
    }
   ],
   "source": [
    "len(train)"
   ]
  },
  {
   "cell_type": "code",
   "execution_count": 9,
   "id": "d33f82b0",
   "metadata": {},
   "outputs": [],
   "source": [
    "def get_ind_ttest_volacid(train):\n",
    "\n",
    "    viable_sample=train[train.is_viable==True]['volatile acidity']\n",
    "    not_viable_sample=train[train.is_viable==False]['volatile acidity']\n",
    "    overall_mean = train['volatile acidity'].mean()\n",
    "\n",
    "    t, p = stats.ttest_ind(not_viable_sample, viable_sample, equal_var=False)\n",
    "    print(f't     = {t:.4f}')\n",
    "    print(f'p     = {p:.4f}')"
   ]
  },
  {
   "cell_type": "code",
   "execution_count": 10,
   "id": "a2fcfa53",
   "metadata": {},
   "outputs": [],
   "source": [
    "sns.set_palette(\"pastel\")"
   ]
  },
  {
   "cell_type": "markdown",
   "id": "0944400c",
   "metadata": {},
   "source": [
    "### Countplot of quality in Train"
   ]
  },
  {
   "cell_type": "code",
   "execution_count": 11,
   "id": "be092097",
   "metadata": {},
   "outputs": [],
   "source": [
    "def get_countplot():\n",
    "    sns.countplot(x=train.quality)"
   ]
  },
  {
   "cell_type": "code",
   "execution_count": 12,
   "id": "36e5d281",
   "metadata": {
    "scrolled": true
   },
   "outputs": [
    {
     "data": {
      "text/plain": [
       "<AxesSubplot:xlabel='quality', ylabel='count'>"
      ]
     },
     "execution_count": 12,
     "metadata": {},
     "output_type": "execute_result"
    },
    {
     "data": {
      "image/png": "[encoded data removed]",
      "text/plain": [
       "<Figure size 432x288 with 1 Axes>"
      ]
     },
     "metadata": {
      "needs_background": "light"
     },
     "output_type": "display_data"
    }
   ],
   "source": [
    "sns.countplot(x=train.quality)\n"
   ]
  },
  {
   "cell_type": "code",
   "execution_count": 13,
   "id": "4d396154",
   "metadata": {},
   "outputs": [
    {
     "data": {
      "text/plain": [
       "5    270\n",
       "6    259\n",
       "7     80\n",
       "4     18\n",
       "8      9\n",
       "3      3\n",
       "Name: quality, dtype: int64"
      ]
     },
     "execution_count": 13,
     "metadata": {},
     "output_type": "execute_result"
    }
   ],
   "source": [
    "train.quality.value_counts()"
   ]
  },
  {
   "cell_type": "code",
   "execution_count": 14,
   "id": "abd0b92a",
   "metadata": {},
   "outputs": [],
   "source": [
    "def get_countplot_viable():\n",
    "    sns.countplot(x=train.is_viable)"
   ]
  },
  {
   "cell_type": "code",
   "execution_count": 15,
   "id": "55ea049c",
   "metadata": {
    "scrolled": true
   },
   "outputs": [
    {
     "data": {
      "text/plain": [
       "<AxesSubplot:xlabel='is_viable', ylabel='count'>"
      ]
     },
     "execution_count": 15,
     "metadata": {},
     "output_type": "execute_result"
    },
    {
     "data": {
      "image/png": "[encoded data removed]",
      "text/plain": [
       "<Figure size 432x288 with 1 Axes>"
      ]
     },
     "metadata": {
      "needs_background": "light"
     },
     "output_type": "display_data"
    }
   ],
   "source": [
    "sns.countplot(x=train.is_viable)"
   ]
  },
  {
   "cell_type": "code",
   "execution_count": 16,
   "id": "4b974da3",
   "metadata": {
    "scrolled": true
   },
   "outputs": [
    {
     "data": {
      "text/plain": [
       "True     348\n",
       "False    291\n",
       "Name: is_viable, dtype: int64"
      ]
     },
     "execution_count": 16,
     "metadata": {},
     "output_type": "execute_result"
    }
   ],
   "source": [
    "train.is_viable.value_counts()"
   ]
  },
  {
   "cell_type": "code",
   "execution_count": 17,
   "id": "c5da3bdc",
   "metadata": {},
   "outputs": [
    {
     "data": {
      "text/plain": [
       "639"
      ]
     },
     "execution_count": 17,
     "metadata": {},
     "output_type": "execute_result"
    }
   ],
   "source": [
    "348+291"
   ]
  },
  {
   "cell_type": "code",
   "execution_count": 18,
   "id": "0378c2fe",
   "metadata": {
    "scrolled": true
   },
   "outputs": [
    {
     "data": {
      "text/plain": [
       "0.5446009389671361"
      ]
     },
     "execution_count": 18,
     "metadata": {},
     "output_type": "execute_result"
    }
   ],
   "source": [
    "348/639"
   ]
  },
  {
   "cell_type": "markdown",
   "id": "35b2ea9c",
   "metadata": {},
   "source": [
    "### Scatterplot of citric acid vs volatile acidity in Train"
   ]
  },
  {
   "cell_type": "code",
   "execution_count": null,
   "id": "0a3bc88c",
   "metadata": {},
   "outputs": [],
   "source": []
  },
  {
   "cell_type": "code",
   "execution_count": 19,
   "id": "728ecb43",
   "metadata": {
    "scrolled": true
   },
   "outputs": [
    {
     "data": {
      "text/plain": [
       "<AxesSubplot:xlabel='citric acid', ylabel='volatile acidity'>"
      ]
     },
     "execution_count": 19,
     "metadata": {},
     "output_type": "execute_result"
    },
    {
     "data": {
      "image/png": "[encoded data removed]",
      "text/plain": [
       "<Figure size 432x288 with 1 Axes>"
      ]
     },
     "metadata": {
      "needs_background": "light"
     },
     "output_type": "display_data"
    }
   ],
   "source": [
    "sns.scatterplot(data=train, x=train['citric acid'],y=train['volatile acidity'])"
   ]
  },
  {
   "cell_type": "markdown",
   "id": "27aca82e",
   "metadata": {},
   "source": [
    "### boxplot of quality vs volatile acidity, moves forward"
   ]
  },
  {
   "cell_type": "code",
   "execution_count": 20,
   "id": "fe1fd2b2",
   "metadata": {},
   "outputs": [],
   "source": [
    "def get_volatile_boxplot():\n",
    "    sns.boxplot(data=train, x=train['quality'],y=train['volatile acidity'])"
   ]
  },
  {
   "cell_type": "code",
   "execution_count": 21,
   "id": "58e9cae9",
   "metadata": {
    "scrolled": false
   },
   "outputs": [
    {
     "data": {
      "text/plain": [
       "<AxesSubplot:xlabel='quality', ylabel='volatile acidity'>"
      ]
     },
     "execution_count": 21,
     "metadata": {},
     "output_type": "execute_result"
    },
    {
     "data": {
      "image/png": "[encoded data removed]",
      "text/plain": [
       "<Figure size 432x288 with 1 Axes>"
      ]
     },
     "metadata": {
      "needs_background": "light"
     },
     "output_type": "display_data"
    }
   ],
   "source": [
    "sns.boxplot(data=train, x=train['quality'],y=train['volatile acidity'])"
   ]
  },
  {
   "cell_type": "code",
   "execution_count": 22,
   "id": "fd413d26",
   "metadata": {},
   "outputs": [],
   "source": [
    "def get_ind_ttest_volacid(train):\n",
    "\n",
    "    viable_sample=train[train.is_viable==True]['volatile acidity']\n",
    "    not_viable_sample=train[train.is_viable==False]['volatile acidity']\n",
    "    overall_mean = train['volatile acidity'].mean()\n",
    "\n",
    "    t, p = stats.ttest_ind(not_viable_sample, viable_sample, equal_var=False)\n",
    "    print(f't     = {t:.4f}')\n",
    "    print(f'p     = {p:.4f}')"
   ]
  },
  {
   "cell_type": "code",
   "execution_count": 23,
   "id": "1f9586e1",
   "metadata": {},
   "outputs": [
    {
     "name": "stdout",
     "output_type": "stream",
     "text": [
      "t     = 8.8387\n",
      "p     = 0.0000\n"
     ]
    }
   ],
   "source": [
    "get_ind_ttest_volacid(train)"
   ]
  },
  {
   "cell_type": "markdown",
   "id": "5f99c0bf",
   "metadata": {},
   "source": [
    "### p-value less than our alpha, we will use volatile acid for modeling"
   ]
  },
  {
   "cell_type": "markdown",
   "id": "56c2515e",
   "metadata": {},
   "source": [
    "### boxplot of quality vs citric acid"
   ]
  },
  {
   "cell_type": "code",
   "execution_count": 24,
   "id": "2a711719",
   "metadata": {},
   "outputs": [],
   "source": [
    "def get_citric_boxplot():\n",
    "    sns.boxplot(data=train, x=train['quality'],y=train['citric acid'])"
   ]
  },
  {
   "cell_type": "code",
   "execution_count": 25,
   "id": "8e49a8f7",
   "metadata": {
    "scrolled": true
   },
   "outputs": [
    {
     "data": {
      "text/plain": [
       "<AxesSubplot:xlabel='quality', ylabel='citric acid'>"
      ]
     },
     "execution_count": 25,
     "metadata": {},
     "output_type": "execute_result"
    },
    {
     "data": {
      "image/png": "[encoded data removed]",
      "text/plain": [
       "<Figure size 432x288 with 1 Axes>"
      ]
     },
     "metadata": {
      "needs_background": "light"
     },
     "output_type": "display_data"
    }
   ],
   "source": [
    "sns.boxplot(data=train, x=train['quality'],y=train['citric acid'])"
   ]
  },
  {
   "cell_type": "code",
   "execution_count": 26,
   "id": "0c576d2e",
   "metadata": {},
   "outputs": [],
   "source": [
    "def get_ind_ttest_citric_acid(train):\n",
    "\n",
    "    viable_sample=train[train.is_viable==True]['citric acid']\n",
    "    not_viable_sample=train[train.is_viable==False]['citric acid']\n",
    "    overall_mean = train['citric acid'].mean()\n",
    "\n",
    "    t, p = stats.ttest_ind(not_viable_sample, viable_sample, equal_var=False)\n",
    "    print(f't     = {t:.4f}')\n",
    "    print(f'p     = {p:.4f}')"
   ]
  },
  {
   "cell_type": "code",
   "execution_count": 28,
   "id": "9a04cb8b",
   "metadata": {
    "scrolled": true
   },
   "outputs": [
    {
     "name": "stdout",
     "output_type": "stream",
     "text": [
      "t     = -4.1518\n",
      "p     = 0.0000\n"
     ]
    }
   ],
   "source": [
    "get_ind_ttest_citric_acid(train)"
   ]
  },
  {
   "cell_type": "markdown",
   "id": "a1250435",
   "metadata": {},
   "source": [
    "### p value is less than alpha, there is significance. This feature will move forward for now"
   ]
  },
  {
   "cell_type": "markdown",
   "id": "3197593c",
   "metadata": {},
   "source": [
    "### boxplot of quality vs fixed acidity"
   ]
  },
  {
   "cell_type": "code",
   "execution_count": 29,
   "id": "63b5ce0d",
   "metadata": {},
   "outputs": [],
   "source": [
    "def get_fixed_acid_boxplot():\n",
    "    sns.boxplot(data=train, x=train['quality'],y=train['fixed acidity'])"
   ]
  },
  {
   "cell_type": "code",
   "execution_count": 30,
   "id": "448c49b7",
   "metadata": {
    "scrolled": true
   },
   "outputs": [
    {
     "data": {
      "text/plain": [
       "<AxesSubplot:xlabel='quality', ylabel='fixed acidity'>"
      ]
     },
     "execution_count": 30,
     "metadata": {},
     "output_type": "execute_result"
    },
    {
     "data": {
      "image/png": "[encoded data removed]",
      "text/plain": [
       "<Figure size 432x288 with 1 Axes>"
      ]
     },
     "metadata": {
      "needs_background": "light"
     },
     "output_type": "display_data"
    }
   ],
   "source": [
    "sns.boxplot(data=train, x=train['quality'],y=train['fixed acidity'])"
   ]
  },
  {
   "cell_type": "code",
   "execution_count": 31,
   "id": "ee9f95e0",
   "metadata": {},
   "outputs": [],
   "source": [
    "def get_ind_ttest_fixed_acid(train):\n",
    "\n",
    "    viable_sample=train[train.is_viable==True]['fixed acidity']\n",
    "    not_viable_sample=train[train.is_viable==False]['fixed acidity']\n",
    "    overall_mean = train['fixed acidity'].mean()\n",
    "\n",
    "    t, p = stats.ttest_ind(not_viable_sample, viable_sample, equal_var=False)\n",
    "    print(f't     = {t:.4f}')\n",
    "    print(f'p     = {p:.4f}')"
   ]
  },
  {
   "cell_type": "code",
   "execution_count": 32,
   "id": "97c25eaa",
   "metadata": {},
   "outputs": [
    {
     "name": "stdout",
     "output_type": "stream",
     "text": [
      "t     = -2.4383\n",
      "p     = 0.0150\n"
     ]
    }
   ],
   "source": [
    "get_ind_ttest_fixed_acid(train)"
   ]
  },
  {
   "cell_type": "markdown",
   "id": "28769106",
   "metadata": {},
   "source": [
    "### p value is less than alpha, this feature will move forward to modeling for now"
   ]
  },
  {
   "cell_type": "code",
   "execution_count": null,
   "id": "fcea2fce",
   "metadata": {},
   "outputs": [],
   "source": []
  },
  {
   "cell_type": "code",
   "execution_count": null,
   "id": "e8539b78",
   "metadata": {},
   "outputs": [],
   "source": []
  },
  {
   "cell_type": "markdown",
   "id": "dfa22f23",
   "metadata": {},
   "source": [
    "### boxplot of quality vs pH"
   ]
  },
  {
   "cell_type": "code",
   "execution_count": 48,
   "id": "f6d1a52f",
   "metadata": {},
   "outputs": [],
   "source": [
    "def get_pH_boxplot():\n",
    "    sns.boxplot(data=train, x=train['quality'],y=train['pH'])"
   ]
  },
  {
   "cell_type": "code",
   "execution_count": 33,
   "id": "f9ab1ece",
   "metadata": {
    "scrolled": true
   },
   "outputs": [
    {
     "data": {
      "text/plain": [
       "<AxesSubplot:xlabel='quality', ylabel='pH'>"
      ]
     },
     "execution_count": 33,
     "metadata": {},
     "output_type": "execute_result"
    },
    {
     "data": {
      "image/png": "[encoded data removed]",
      "text/plain": [
       "<Figure size 432x288 with 1 Axes>"
      ]
     },
     "metadata": {
      "needs_background": "light"
     },
     "output_type": "display_data"
    }
   ],
   "source": [
    "sns.boxplot(data=train, x=train['quality'],y=train['pH'])"
   ]
  },
  {
   "cell_type": "code",
   "execution_count": 34,
   "id": "4ed5f5d9",
   "metadata": {},
   "outputs": [],
   "source": [
    "def get_ind_ttest_ph(train):\n",
    "\n",
    "    viable_sample=train[train.is_viable==True]['pH']\n",
    "    not_viable_sample=train[train.is_viable==False]['pH']\n",
    "    overall_mean = train['pH'].mean()\n",
    "\n",
    "    t, p = stats.ttest_ind(not_viable_sample, viable_sample, equal_var=False)\n",
    "    print(f't     = {t:.4f}')\n",
    "    print(f'p     = {p:.4f}')"
   ]
  },
  {
   "cell_type": "code",
   "execution_count": 35,
   "id": "dd627bb0",
   "metadata": {
    "scrolled": true
   },
   "outputs": [
    {
     "name": "stdout",
     "output_type": "stream",
     "text": [
      "t     = -1.5322\n",
      "p     = 0.1260\n"
     ]
    }
   ],
   "source": [
    "get_ind_ttest_ph(train)"
   ]
  },
  {
   "cell_type": "markdown",
   "id": "f681ea5e",
   "metadata": {},
   "source": [
    "### t-test has p-value greater than 0.05, pH will not move forward to modeling"
   ]
  },
  {
   "cell_type": "code",
   "execution_count": null,
   "id": "412dd5ef",
   "metadata": {},
   "outputs": [],
   "source": []
  },
  {
   "cell_type": "code",
   "execution_count": null,
   "id": "347f9795",
   "metadata": {},
   "outputs": [],
   "source": []
  },
  {
   "cell_type": "markdown",
   "id": "61ce8e69",
   "metadata": {},
   "source": [
    "### boxplot of quality vs sulphates"
   ]
  },
  {
   "cell_type": "code",
   "execution_count": 49,
   "id": "2dd3bf97",
   "metadata": {},
   "outputs": [],
   "source": [
    "def get_sulphates_boxplot():\n",
    "    sns.boxplot(data=train, x=train['quality'],y=train['sulphates'])"
   ]
  },
  {
   "cell_type": "code",
   "execution_count": 36,
   "id": "bd3f1ce6",
   "metadata": {
    "scrolled": false
   },
   "outputs": [
    {
     "data": {
      "text/plain": [
       "<AxesSubplot:xlabel='quality', ylabel='sulphates'>"
      ]
     },
     "execution_count": 36,
     "metadata": {},
     "output_type": "execute_result"
    },
    {
     "data": {
      "image/png": "[encoded data removed]",
      "text/plain": [
       "<Figure size 432x288 with 1 Axes>"
      ]
     },
     "metadata": {
      "needs_background": "light"
     },
     "output_type": "display_data"
    }
   ],
   "source": [
    "sns.boxplot(data=train, x=train['quality'],y=train['sulphates'])"
   ]
  },
  {
   "cell_type": "code",
   "execution_count": 37,
   "id": "bc9271d7",
   "metadata": {},
   "outputs": [],
   "source": [
    "def get_ind_ttest_sulphates(train):\n",
    "\n",
    "    viable_sample=train[train.is_viable==True]['sulphates']\n",
    "    not_viable_sample=train[train.is_viable==False]['sulphates']\n",
    "    overall_mean = train['sulphates'].mean()\n",
    "\n",
    "    t, p = stats.ttest_ind(not_viable_sample, viable_sample, equal_var=False)\n",
    "    print(f't     = {t:.4f}')\n",
    "    print(f'p     = {p:.4f}')"
   ]
  },
  {
   "cell_type": "code",
   "execution_count": 38,
   "id": "d868fd73",
   "metadata": {
    "scrolled": true
   },
   "outputs": [
    {
     "name": "stdout",
     "output_type": "stream",
     "text": [
      "t     = -6.8459\n",
      "p     = 0.0000\n"
     ]
    }
   ],
   "source": [
    "get_ind_ttest_sulph(train)"
   ]
  },
  {
   "cell_type": "markdown",
   "id": "d7ae20ab",
   "metadata": {},
   "source": [
    "### p value is under alpha, showing a significant relationship, sulphates will move on to modeling"
   ]
  },
  {
   "cell_type": "code",
   "execution_count": null,
   "id": "52dc9196",
   "metadata": {},
   "outputs": [],
   "source": []
  },
  {
   "cell_type": "code",
   "execution_count": null,
   "id": "90848a9f",
   "metadata": {},
   "outputs": [],
   "source": []
  },
  {
   "cell_type": "markdown",
   "id": "c724355c",
   "metadata": {},
   "source": [
    "### boxplot of quality vs alcohol"
   ]
  },
  {
   "cell_type": "code",
   "execution_count": 50,
   "id": "c7f50031",
   "metadata": {},
   "outputs": [],
   "source": [
    "def get_alcohol_boxplot():\n",
    "    sns.boxplot(data=train, x=train['quality'],y=train['alcohol'])"
   ]
  },
  {
   "cell_type": "code",
   "execution_count": 39,
   "id": "1ca39c85",
   "metadata": {
    "scrolled": true
   },
   "outputs": [
    {
     "data": {
      "text/plain": [
       "<AxesSubplot:xlabel='quality', ylabel='alcohol'>"
      ]
     },
     "execution_count": 39,
     "metadata": {},
     "output_type": "execute_result"
    },
    {
     "data": {
      "image/png": "[encoded data removed]",
      "text/plain": [
       "<Figure size 432x288 with 1 Axes>"
      ]
     },
     "metadata": {
      "needs_background": "light"
     },
     "output_type": "display_data"
    }
   ],
   "source": [
    "sns.boxplot(data=train, x=train['quality'],y=train['alcohol'])"
   ]
  },
  {
   "cell_type": "code",
   "execution_count": 40,
   "id": "0e76384e",
   "metadata": {},
   "outputs": [],
   "source": [
    "def get_ind_ttest_alcohol(train):\n",
    "\n",
    "    viable_sample=train[train.is_viable==True]['alcohol']\n",
    "    not_viable_sample=train[train.is_viable==False]['alcohol']\n",
    "    overall_mean = train['alcohol'].mean()\n",
    "\n",
    "    t, p = stats.ttest_ind(not_viable_sample, viable_sample, equal_var=False)\n",
    "    print(f't     = {t:.4f}')\n",
    "    print(f'p     = {p:.4f}')"
   ]
  },
  {
   "cell_type": "code",
   "execution_count": 41,
   "id": "80a42c29",
   "metadata": {
    "scrolled": true
   },
   "outputs": [
    {
     "name": "stdout",
     "output_type": "stream",
     "text": [
      "t     = -14.1206\n",
      "p     = 0.0000\n"
     ]
    }
   ],
   "source": [
    "get_ind_ttest_alcohol(train)"
   ]
  },
  {
   "cell_type": "markdown",
   "id": "2a316a6e",
   "metadata": {},
   "source": [
    "### alcohol content shows a significant relationship with quality and will move forward to modeling"
   ]
  },
  {
   "cell_type": "code",
   "execution_count": null,
   "id": "a64cec1f",
   "metadata": {},
   "outputs": [],
   "source": []
  },
  {
   "cell_type": "code",
   "execution_count": null,
   "id": "2f983817",
   "metadata": {},
   "outputs": [],
   "source": []
  },
  {
   "cell_type": "markdown",
   "id": "0d8daf31",
   "metadata": {},
   "source": [
    "### scatterplot of quality vs residual sugar"
   ]
  },
  {
   "cell_type": "code",
   "execution_count": 51,
   "id": "75d77601",
   "metadata": {},
   "outputs": [],
   "source": [
    "def get_residual_sugar_boxplot():\n",
    "    sns.boxplot(data=train, x=train['quality'],y=train['residual sugar'])"
   ]
  },
  {
   "cell_type": "code",
   "execution_count": 42,
   "id": "b8d25412",
   "metadata": {
    "scrolled": true
   },
   "outputs": [
    {
     "data": {
      "text/plain": [
       "<AxesSubplot:xlabel='quality', ylabel='residual sugar'>"
      ]
     },
     "execution_count": 42,
     "metadata": {},
     "output_type": "execute_result"
    },
    {
     "data": {
      "image/png": "[encoded data removed]",
      "text/plain": [
       "<Figure size 432x288 with 1 Axes>"
      ]
     },
     "metadata": {
      "needs_background": "light"
     },
     "output_type": "display_data"
    }
   ],
   "source": [
    "sns.boxplot(data=train, x=train['quality'],y=train['residual sugar'])"
   ]
  },
  {
   "cell_type": "code",
   "execution_count": 43,
   "id": "8337f7be",
   "metadata": {},
   "outputs": [],
   "source": [
    "def get_ind_ttest_residsugar(train):\n",
    "\n",
    "    viable_sample=train[train.is_viable==True]['residual sugar']\n",
    "    not_viable_sample=train[train.is_viable==False]['residual sugar']\n",
    "    overall_mean = train['residual sugar'].mean()\n",
    "\n",
    "    t, p = stats.ttest_ind(not_viable_sample, viable_sample, equal_var=False)\n",
    "    print(f't     = {t:.4f}')\n",
    "    print(f'p     = {p:.4f}')"
   ]
  },
  {
   "cell_type": "code",
   "execution_count": 44,
   "id": "3f37276c",
   "metadata": {
    "scrolled": true
   },
   "outputs": [
    {
     "name": "stdout",
     "output_type": "stream",
     "text": [
      "t     = 0.0569\n",
      "p     = 0.9546\n"
     ]
    }
   ],
   "source": [
    "get_ind_ttest_residsugar(train)"
   ]
  },
  {
   "cell_type": "markdown",
   "id": "e93259a8",
   "metadata": {},
   "source": [
    "### residual sugar p value is too high and will not move on to modeling"
   ]
  },
  {
   "cell_type": "code",
   "execution_count": null,
   "id": "194de64e",
   "metadata": {},
   "outputs": [],
   "source": []
  },
  {
   "cell_type": "code",
   "execution_count": null,
   "id": "0af43c98",
   "metadata": {},
   "outputs": [],
   "source": []
  },
  {
   "cell_type": "markdown",
   "id": "670178a3",
   "metadata": {},
   "source": [
    "### boxplot of quality vs free sulfur dioxide"
   ]
  },
  {
   "cell_type": "code",
   "execution_count": 52,
   "id": "86ea5c38",
   "metadata": {},
   "outputs": [],
   "source": [
    "def get_free_sulf_dio_boxplot():\n",
    "    sns.boxplot(data=train, x=train['quality'],y=train['free sulfur dioxide'])"
   ]
  },
  {
   "cell_type": "code",
   "execution_count": 45,
   "id": "0d54f94f",
   "metadata": {},
   "outputs": [
    {
     "data": {
      "text/plain": [
       "<AxesSubplot:xlabel='quality', ylabel='free sulfur dioxide'>"
      ]
     },
     "execution_count": 45,
     "metadata": {},
     "output_type": "execute_result"
    },
    {
     "data": {
      "image/png": "[encoded data removed]",
      "text/plain": [
       "<Figure size 432x288 with 1 Axes>"
      ]
     },
     "metadata": {
      "needs_background": "light"
     },
     "output_type": "display_data"
    }
   ],
   "source": [
    "sns.boxplot(data=train, x=train['quality'],y=train['free sulfur dioxide'])"
   ]
  },
  {
   "cell_type": "code",
   "execution_count": 46,
   "id": "db57567d",
   "metadata": {},
   "outputs": [],
   "source": [
    "def get_ind_ttest_free_sulf_dio(train):\n",
    "\n",
    "    viable_sample=train[train.is_viable==True]['free sulfur dioxide']\n",
    "    not_viable_sample=train[train.is_viable==False]['free sulfur dioxide']\n",
    "    overall_mean = train['free sulfur dioxide'].mean()\n",
    "\n",
    "    t, p = stats.ttest_ind(not_viable_sample, viable_sample, equal_var=False)\n",
    "    print(f't     = {t:.4f}')\n",
    "    print(f'p     = {p:.4f}')"
   ]
  },
  {
   "cell_type": "code",
   "execution_count": 47,
   "id": "9687fd4c",
   "metadata": {
    "scrolled": true
   },
   "outputs": [
    {
     "name": "stdout",
     "output_type": "stream",
     "text": [
      "t     = 2.5557\n",
      "p     = 0.0109\n"
     ]
    }
   ],
   "source": [
    "get_ind_ttest_sulf_dio(train)"
   ]
  },
  {
   "cell_type": "markdown",
   "id": "c82c4115",
   "metadata": {},
   "source": [
    "### p value is lower than alpha, but t value is low. Will move on to modeling for now"
   ]
  },
  {
   "cell_type": "code",
   "execution_count": null,
   "id": "9373d998",
   "metadata": {},
   "outputs": [],
   "source": []
  },
  {
   "cell_type": "code",
   "execution_count": null,
   "id": "41271a82",
   "metadata": {},
   "outputs": [],
   "source": []
  },
  {
   "cell_type": "code",
   "execution_count": null,
   "id": "4a51bd9c",
   "metadata": {},
   "outputs": [],
   "source": []
  },
  {
   "cell_type": "code",
   "execution_count": null,
   "id": "06f3ee1e",
   "metadata": {},
   "outputs": [],
   "source": []
  }
 ],
 "metadata": {
  "kernelspec": {
   "display_name": "Python 3 (ipykernel)",
   "language": "python",
   "name": "python3"
  },
  "language_info": {
   "codemirror_mode": {
    "name": "ipython",
    "version": 3
   },
   "file_extension": ".py",
   "mimetype": "text/x-python",
   "name": "python",
   "nbconvert_exporter": "python",
   "pygments_lexer": "ipython3",
   "version": "3.9.12"
  }
 },
 "nbformat": 4,
 "nbformat_minor": 5
}
